{
  "cells": [
    {
      "cell_type": "markdown",
      "metadata": {
        "id": "71kdFp0QgF4K"
      },
      "source": [
        "# IST597:- Multi-Layer Perceptron"
      ]
    },
    {
      "cell_type": "markdown",
      "metadata": {
        "id": "C2yHcl5xgPV1"
      },
      "source": [
        "## Load the libraries"
      ]
    },
    {
      "cell_type": "code",
      "execution_count": 1,
      "metadata": {
        "id": "2DPwxLR2gSLC"
      },
      "outputs": [],
      "source": [
        "import os\n",
        "import numpy as np\n",
        "import time\n",
        "import tensorflow as tf\n",
        "from tensorflow.keras import datasets\n",
        "import matplotlib.pyplot as plt\n",
        "seed_val = 2218\n",
        "np.random.seed(seed_val)\n",
        "tf.random.set_seed(seed_val)"
      ]
    },
    {
      "cell_type": "code",
      "execution_count": 2,
      "metadata": {
        "colab": {
          "base_uri": "https://localhost:8080/"
        },
        "id": "wV-3kEaggcO8",
        "outputId": "fae63559-5f5e-4386-fb78-b4484e94505b"
      },
      "outputs": [
        {
          "output_type": "execute_result",
          "data": {
            "text/plain": [
              "[PhysicalDevice(name='/physical_device:GPU:0', device_type='GPU')]"
            ]
          },
          "metadata": {},
          "execution_count": 2
        }
      ],
      "source": [
        "tf.config.list_physical_devices('GPU')"
      ]
    },
    {
      "cell_type": "markdown",
      "metadata": {
        "id": "iw78jw6pDqSM"
      },
      "source": [
        "#Get number of Gpu's and id's in the system or else you can also use Nvidia-smi in command prompt."
      ]
    },
    {
      "cell_type": "markdown",
      "metadata": {
        "id": "7Dk_S2TMg_6_"
      },
      "source": [
        "## Generate random data"
      ]
    },
    {
      "cell_type": "code",
      "execution_count": 3,
      "metadata": {
        "colab": {
          "base_uri": "https://localhost:8080/"
        },
        "id": "PNF2gLLxARl-",
        "outputId": "607e35db-2753-4268-b007-cae350332a19"
      },
      "outputs": [
        {
          "output_type": "stream",
          "name": "stdout",
          "text": [
            "Downloading data from https://storage.googleapis.com/tensorflow/tf-keras-datasets/train-labels-idx1-ubyte.gz\n",
            "32768/29515 [=================================] - 0s 0us/step\n",
            "40960/29515 [=========================================] - 0s 0us/step\n",
            "Downloading data from https://storage.googleapis.com/tensorflow/tf-keras-datasets/train-images-idx3-ubyte.gz\n",
            "26427392/26421880 [==============================] - 0s 0us/step\n",
            "26435584/26421880 [==============================] - 0s 0us/step\n",
            "Downloading data from https://storage.googleapis.com/tensorflow/tf-keras-datasets/t10k-labels-idx1-ubyte.gz\n",
            "16384/5148 [===============================================================================================] - 0s 0us/step\n",
            "Downloading data from https://storage.googleapis.com/tensorflow/tf-keras-datasets/t10k-images-idx3-ubyte.gz\n",
            "4423680/4422102 [==============================] - 0s 0us/step\n",
            "4431872/4422102 [==============================] - 0s 0us/step\n"
          ]
        }
      ],
      "source": [
        "#downloading the dataset\n",
        "\n",
        "(train_images, train_labels), (test_images, test_labels) = datasets.fashion_mnist.load_data()"
      ]
    },
    {
      "cell_type": "code",
      "execution_count": 4,
      "metadata": {
        "id": "40XlFnwho7D8"
      },
      "outputs": [],
      "source": [
        "size_input = train_images[0].shape[0] * train_images[0].shape[1]\n",
        "size_hidden = 256\n",
        "size_hidden_2 = 128\n",
        "size_output = 10\n",
        "learning_rate_hp = 1e-3\n",
        "number_of_train_examples = train_images.shape[0]\n",
        "number_of_test_examples = test_images.shape[0]\n",
        "train_batch = 60\n",
        "test_batch = 10\n",
        "lamda = 0.7\n",
        "NUM_EPOCHS = 3000"
      ]
    },
    {
      "cell_type": "code",
      "execution_count": 5,
      "metadata": {
        "id": "DLFMCfKDIcAs"
      },
      "outputs": [],
      "source": [
        "def one_hot_encode(vec):\n",
        "  n = len(vec)\n",
        "  out = np.zeros((n, 10))\n",
        "  for i in range(n):\n",
        "    out[i, vec[i]] = 1\n",
        "  return out"
      ]
    },
    {
      "cell_type": "code",
      "execution_count": 6,
      "metadata": {
        "colab": {
          "base_uri": "https://localhost:8080/"
        },
        "id": "qm23CzRihaW0",
        "outputId": "fbefe258-9960-4699-d51b-fe70884f7668"
      },
      "outputs": [
        {
          "output_type": "stream",
          "name": "stdout",
          "text": [
            "(60000, 784)   (60000, 10)\n"
          ]
        }
      ],
      "source": [
        "X_train = train_images.reshape(train_images.shape[0], -1)\n",
        "X_test = test_images.reshape(test_images.shape[0], -1)\n",
        "\n",
        "y_train = np.reshape(train_labels, (number_of_train_examples, 1))\n",
        "y_test = np.reshape(test_labels, (number_of_test_examples, 1))\n",
        "y_train = one_hot_encode(y_train)\n",
        "y_test = one_hot_encode(y_test)\n",
        "\n",
        "print(X_train.shape, \" \", y_train.shape)\n",
        "\n",
        "#standardizing the images\n",
        "\n",
        "x_train = X_train / 255.0\n",
        "x_test = X_test / 255.0"
      ]
    },
    {
      "cell_type": "code",
      "execution_count": null,
      "metadata": {
        "id": "aigqKFFF5BM2"
      },
      "outputs": [],
      "source": [
        "# Split dataset into batches\n",
        "# test_ds = tf.data.Dataset.from_tensor_slices((X_test, y_test)).batch(10)"
      ]
    },
    {
      "cell_type": "markdown",
      "metadata": {
        "id": "Eb4hOoVbnzSJ"
      },
      "source": [
        "## Build MLP using Eager Execution"
      ]
    },
    {
      "cell_type": "code",
      "execution_count": 7,
      "metadata": {
        "id": "vdAku19sLilG"
      },
      "outputs": [],
      "source": [
        "def compute_accuracy(mlp, X_test, y_test):\n",
        "  '''\n",
        "  This function does a forward pass of x, then checks if the indices\n",
        "  of the maximum value in the output equals the indices in the label \n",
        "  y. Then it sums over each prediction and calculates the accuracy.\n",
        "  '''\n",
        "  predictions = []\n",
        "  # for x, y in zip(X_test, y_test):\n",
        "  #   x = tf.reshape(x, (1, size_input))\n",
        "  #   output = mlp.forward(x)\n",
        "  #   pred = np.argmax(output)\n",
        "  #   predictions.append(pred == np.argmax(y))\n",
        "\n",
        "  output = mlp.forward(X_test)\n",
        "  pred = np.argmax(output, axis=1)\n",
        "  predictions.append(pred == np.argmax(y_test, axis=1))\n",
        "\n",
        "  return np.mean(predictions)"
      ]
    },
    {
      "cell_type": "code",
      "execution_count": 13,
      "metadata": {
        "id": "Ht9_qpYipgHw"
      },
      "outputs": [],
      "source": [
        "# Define class to build mlp model\n",
        "class MLP(object):\n",
        "  def __init__(self, size_input, size_hidden, size_hidden_2, size_output, device=None):\n",
        "    \"\"\"\n",
        "    size_input: int, size of input layer\n",
        "    size_hidden: int, size of hidden layer\n",
        "    size_output: int, size of output layer\n",
        "    device: str or None, either 'cpu' or 'gpu' or None. If None, the device to be used will be decided automatically during Eager Execution\n",
        "    \"\"\"\n",
        "    self.size_input, self.size_hidden, self.size_hidden_2, self.size_output, self.device =\\\n",
        "    size_input, size_hidden, size_hidden_2, size_output, device\n",
        "    \n",
        "    # Initialize weights between input layer and hidden layer\n",
        "    self.W1 = tf.Variable(tf.random.normal([self.size_input, self.size_hidden]))\n",
        "    # Initialize biases for hidden layer\n",
        "    self.b1 = tf.Variable(tf.random.normal([1, self.size_hidden]))\n",
        "     # Initialize weights between input layer and hidden layer\n",
        "    self.W2 = tf.Variable(tf.random.normal([self.size_hidden, self.size_hidden_2]))\n",
        "    # Initialize biases for hidden layer\n",
        "    self.b2 = tf.Variable(tf.random.normal([1, self.size_hidden_2]))\n",
        "    # Initialize weights between hidden layer and output layer\n",
        "    self.W3 = tf.Variable(tf.random.normal([self.size_hidden_2, self.size_output]))\n",
        "    # Initialize biases for output layer\n",
        "    self.b3 = tf.Variable(tf.random.normal([1, self.size_output]))\n",
        "    \n",
        "    # Define variables to be updated during backpropagation\n",
        "    self.variables = [self.W1, self.W2, self.W3, self.b1, self.b2, self.b3]\n",
        "    \n",
        "  def forward(self, X):\n",
        "    \"\"\"\n",
        "    forward pass\n",
        "    X: Tensor, inputs\n",
        "    \"\"\"\n",
        "    if self.device is not None:\n",
        "      with tf.device('gpu:0' if self.device=='gpu' else 'cpu'):\n",
        "        self.y = self.compute_output(X)\n",
        "    else:\n",
        "      self.y = self.compute_output(X)\n",
        "      \n",
        "    return self.y\n",
        "  \n",
        "  def loss(self, y_pred, y_true):\n",
        "    '''\n",
        "    y_pred - Tensor of shape (batch_size, size_output)\n",
        "    y_true - Tensor of shape (batch_size, size_output)\n",
        "    '''\n",
        "    y_true_tf = tf.cast(tf.reshape(y_true, (-1, self.size_output)), dtype=tf.float32)\n",
        "    y_pred_tf = tf.cast(y_pred, dtype=tf.float32)\n",
        "    l2_rg = (lamda / (2.0 * number_of_train_examples)) * (np.sum(np.square(self.variables[0])) + np.sum(np.square(self.variables[1])) + np.sum(np.square(self.variables[2])))\n",
        "    #l1_rg = (lamda / number_of_train_examples) * (np.sum(self.variables[0]) + np.sum(self.variables[1]) + np.sum(self.variables[2]))\n",
        "    return tf.losses.categorical_crossentropy(y_true_tf, y_pred_tf) + l2_rg\n",
        "  \n",
        "  def backward(self, X_train, y_train):\n",
        "    \"\"\"\n",
        "    backward pass\n",
        "    \"\"\"\n",
        "    #print(self.variables)\n",
        "    optimizer = tf.keras.optimizers.Adam(learning_rate=learning_rate_hp)\n",
        "    with tf.GradientTape() as tape:\n",
        "      predicted = self.forward(X_train)\n",
        "      current_loss = self.loss(predicted, y_train)\n",
        "      # L2 Regularization\n",
        "    grads = tape.gradient(current_loss, self.variables)\n",
        "    optimizer.apply_gradients(zip(grads, self.variables))\n",
        "        \n",
        "  def compute_output(self, X):\n",
        "    \"\"\"\n",
        "    Custom method to obtain output tensor during forward pass\n",
        "    \"\"\"\n",
        "    # Cast X to float32\n",
        "    X_tf = tf.cast(X, dtype=tf.float32)\n",
        "    #Remember to normalize your dataset before moving forward\n",
        "    # Compute values in hidden layer 1\n",
        "    what = tf.matmul(X_tf, self.W1) + self.b1\n",
        "    hhat = tf.nn.sigmoid(what)\n",
        "    # Compute values in hidden layer 2\n",
        "    what_2 = tf.matmul(hhat, self.W2) + self.b2\n",
        "    hhat_2 = tf.nn.sigmoid(what_2)\n",
        "    # Compute output\n",
        "    output = tf.matmul(hhat_2, self.W3) + self.b3\n",
        "    output = tf.nn.softmax(output)\n",
        "    #Now consider two things , First look at inbuild loss functions if they work with softmax or not and then change this\n",
        "    #Second add tf.Softmax(output) and then return this variable\n",
        "    return output"
      ]
    },
    {
      "cell_type": "markdown",
      "metadata": {
        "id": "cUDFOuNk618X"
      },
      "source": [
        "## Train Model"
      ]
    },
    {
      "cell_type": "code",
      "execution_count": 9,
      "metadata": {
        "colab": {
          "base_uri": "https://localhost:8080/"
        },
        "id": "moAeRMJ56kr6",
        "outputId": "5d2ffdb4-294d-4e59-c56b-7f59fa9373ef"
      },
      "outputs": [
        {
          "output_type": "stream",
          "name": "stdout",
          "text": [
            "Number of Epoch = 1 - Average Error:= 11.47461875 - Accuracy:= 9.12%\n",
            "Number of Epoch = 101 - Average Error:= 2.25425546875 - Accuracy:= 68.96%\n",
            "Number of Epoch = 201 - Average Error:= 2.0086016927083334 - Accuracy:= 74.17%\n",
            "Number of Epoch = 301 - Average Error:= 1.91281640625 - Accuracy:= 76.30%\n",
            "Number of Epoch = 401 - Average Error:= 1.8549825520833334 - Accuracy:= 77.55%\n",
            "Number of Epoch = 501 - Average Error:= 1.8192165364583333 - Accuracy:= 78.13%\n",
            "Number of Epoch = 601 - Average Error:= 1.794733203125 - Accuracy:= 78.45%\n",
            "Number of Epoch = 701 - Average Error:= 1.7754037760416668 - Accuracy:= 78.62%\n",
            "Number of Epoch = 801 - Average Error:= 1.7615903645833333 - Accuracy:= 78.98%\n",
            "Number of Epoch = 901 - Average Error:= 1.7499489583333334 - Accuracy:= 79.15%\n",
            "Number of Epoch = 1001 - Average Error:= 1.74370625 - Accuracy:= 79.28%\n",
            "Number of Epoch = 1101 - Average Error:= 1.7323908854166667 - Accuracy:= 79.29%\n",
            "Number of Epoch = 1201 - Average Error:= 1.7257450520833333 - Accuracy:= 79.58%\n",
            "Number of Epoch = 1301 - Average Error:= 1.718266015625 - Accuracy:= 79.71%\n",
            "Number of Epoch = 1401 - Average Error:= 1.7128670572916667 - Accuracy:= 79.91%\n",
            "Number of Epoch = 1501 - Average Error:= 1.7088791666666667 - Accuracy:= 80.10%\n",
            "Number of Epoch = 1601 - Average Error:= 1.7038481770833334 - Accuracy:= 80.09%\n",
            "Number of Epoch = 1701 - Average Error:= 1.7014140625 - Accuracy:= 80.14%\n",
            "Number of Epoch = 1801 - Average Error:= 1.6993255208333333 - Accuracy:= 80.14%\n",
            "Number of Epoch = 1901 - Average Error:= 1.6971627604166666 - Accuracy:= 80.23%\n",
            "Number of Epoch = 2001 - Average Error:= 1.6980610677083334 - Accuracy:= 80.46%\n",
            "Number of Epoch = 2101 - Average Error:= 1.696020703125 - Accuracy:= 80.32%\n",
            "Number of Epoch = 2201 - Average Error:= 1.6967751302083334 - Accuracy:= 80.60%\n",
            "Number of Epoch = 2301 - Average Error:= 1.6965536458333332 - Accuracy:= 80.50%\n",
            "Number of Epoch = 2401 - Average Error:= 1.6953055989583334 - Accuracy:= 80.60%\n",
            "Number of Epoch = 2501 - Average Error:= 1.695484765625 - Accuracy:= 80.71%\n",
            "Number of Epoch = 2601 - Average Error:= 1.695603125 - Accuracy:= 80.48%\n",
            "Number of Epoch = 2701 - Average Error:= 1.6960352864583332 - Accuracy:= 80.61%\n",
            "Number of Epoch = 2801 - Average Error:= 1.6969502604166666 - Accuracy:= 80.68%\n",
            "Number of Epoch = 2901 - Average Error:= 1.6995822916666667 - Accuracy:= 80.54%\n",
            "Number of Epoch = 3001 - Average Error:= 1.7000619791666667 - Accuracy:= 80.68%\n",
            "\n",
            "Total time taken (in seconds): 359.91\n"
          ]
        }
      ],
      "source": [
        "from tensorflow.python.ops.nn_impl import compute_average_loss\n",
        "# Initialize model using GPU\n",
        "mlp = MLP(size_input, size_hidden, size_hidden_2, size_output, device='gpu')\n",
        "error = []\n",
        "accuracy = []\n",
        "time_start = time.time()\n",
        "for epoch in range(NUM_EPOCHS + 1):\n",
        "  loss_total = tf.zeros([1,1], dtype=tf.float32)\n",
        "  lt = 0\n",
        "  # train_ds = tf.data.Dataset.from_tensor_slices((X_train, y_train)).batch(train_batch)\n",
        "\n",
        "  preds = mlp.forward(X_train)\n",
        "  loss_total = loss_total + mlp.loss(preds, y_train)\n",
        "  lt = lt + mlp.loss(preds, y_train)\n",
        "  gd = mlp.backward(X_train, y_train)\n",
        "  '''\n",
        "  This code is for batch gradient descent\n",
        "  '''\n",
        "  '''\n",
        "  mlp.vanillasgd(gd)\n",
        "  for inputs, outputs in train_ds:\n",
        "    preds = mlp.forward(inputs)\n",
        "    #print(inputs.shape, \" \", outputs.shape, \" \", preds.shape)\n",
        "    loss_total = loss_total + mlp.loss(preds, outputs)\n",
        "    lt = lt + mlp.loss(preds, outputs)\n",
        "    gd = mlp.backward(inputs, outputs)\n",
        "    #mlp.vanillasgd(gd)\n",
        "  '''\n",
        "  curr_error = np.sum(loss_total) / X_train.shape[0]\n",
        "  error.append(curr_error)\n",
        "  curr_accuracy = compute_accuracy(mlp, X_test, y_test) * 100\n",
        "  accuracy.append(curr_accuracy)\n",
        "  if(epoch % 100 == 0):\n",
        "    print('Number of Epoch = {} - Average Error:= {} - Accuracy:= {:.2f}%'.format(epoch + 1, curr_error, curr_accuracy))\n",
        "time_taken = time.time() - time_start\n",
        "\n",
        "print('\\nTotal time taken (in seconds): {:.2f}'.format(time_taken))\n",
        "#For per epoch_time = Total_Time / Number_of_epochs"
      ]
    },
    {
      "cell_type": "code",
      "execution_count": 10,
      "metadata": {
        "id": "ZV7iJa77kJjq",
        "colab": {
          "base_uri": "https://localhost:8080/",
          "height": 317
        },
        "outputId": "9a5aa80b-3199-40a9-a730-38ef3528bbc4"
      },
      "outputs": [
        {
          "output_type": "stream",
          "name": "stdout",
          "text": [
            "Predicted output:=  3\n",
            "Actual ouput:=  3\n"
          ]
        },
        {
          "output_type": "execute_result",
          "data": {
            "text/plain": [
              "<matplotlib.image.AxesImage at 0x7f5642ab0710>"
            ]
          },
          "metadata": {},
          "execution_count": 10
        },
        {
          "output_type": "display_data",
          "data": {
            "image/png": "[encoded data removed]",
            "text/plain": [
              "<Figure size 432x288 with 1 Axes>"
            ]
          },
          "metadata": {
            "needs_background": "light"
          }
        }
      ],
      "source": [
        "test_index = 300\n",
        "test_data = tf.reshape(X_test[test_index], (1, size_input))\n",
        "output = mlp.forward(test_data)\n",
        "pred = np.argmax(output, axis=1)\n",
        "print(\"Predicted output:= \", int(pred))\n",
        "print(\"Actual ouput:= \", test_labels[test_index])\n",
        "plt.imshow(test_images[test_index])"
      ]
    },
    {
      "cell_type": "code",
      "execution_count": 11,
      "metadata": {
        "id": "bZqEb_-6kOW0",
        "colab": {
          "base_uri": "https://localhost:8080/",
          "height": 320
        },
        "outputId": "9a504019-68f1-4d0a-d81a-ac0f5ae70b28"
      },
      "outputs": [
        {
          "output_type": "stream",
          "name": "stdout",
          "text": [
            "[9.120000000000001, 9.87, 10.639999999999999, 11.37, 12.32, 13.170000000000002, 14.63, 15.57, 17.080000000000002, 17.849999999999998, 19.17, 20.96, 21.45, 22.509999999999998, 23.82, 25.1, 26.900000000000002, 28.199999999999996, 30.28, 31.94, 33.81, 35.23, 36.69, 38.15, 39.17, 40.08, 41.65, 42.699999999999996, 43.9, 44.99, 45.87, 47.15, 47.94, 48.76, 49.519999999999996, 50.4, 51.23, 51.59, 52.190000000000005, 53.06999999999999, 53.349999999999994, 54.35, 54.620000000000005, 55.32, 55.57, 56.43, 56.49999999999999, 57.220000000000006, 57.699999999999996, 58.02, 58.45, 58.589999999999996, 59.06, 59.06, 59.540000000000006, 59.88, 59.89, 60.440000000000005, 60.56, 61.1, 61.260000000000005, 61.79, 62.08, 62.419999999999995, 62.81, 62.83, 63.38, 63.29, 63.43, 63.44, 63.73, 63.89, 64.53, 64.25999999999999, 64.8, 65.02, 65.56, 65.52, 65.77, 65.55, 65.86, 65.8, 66.60000000000001, 66.57, 66.78, 66.97, 67.06, 67.30000000000001, 67.35, 67.42, 67.64, 67.69, 67.83, 67.85, 67.96, 67.65, 68.28, 68.15, 68.57, 68.17, 68.96, 68.54, 69.19, 68.77, 69.34, 69.0, 69.53, 69.5, 69.89999999999999, 69.61, 69.71000000000001, 69.6, 69.89999999999999, 69.88, 70.12, 70.06, 70.00999999999999, 70.47, 70.72, 70.66, 70.56, 70.84, 70.41, 70.78, 70.86, 70.83, 71.08, 71.05, 71.11, 71.11, 71.28999999999999, 71.08, 71.27, 71.02000000000001, 71.37, 71.1, 71.39, 71.25, 71.46000000000001, 71.7, 71.72, 71.61, 71.67, 71.75, 72.27, 71.71, 72.19, 72.02, 72.02, 72.05, 72.17, 72.19, 72.25, 72.37, 72.63, 72.46000000000001, 72.66, 72.54, 72.57000000000001, 72.21, 72.38, 72.44, 72.72, 72.92, 72.7, 72.95, 73.06, 73.04, 73.05, 72.88, 73.03, 73.15, 73.18, 73.32, 73.46000000000001, 73.54, 73.71, 73.31, 73.49, 73.44000000000001, 73.57000000000001, 73.42999999999999, 73.56, 73.85000000000001, 73.50999999999999, 73.58, 73.83, 73.68, 73.78, 73.50999999999999, 73.76, 73.83999999999999, 74.26, 73.85000000000001, 73.92999999999999, 73.6, 74.24, 74.00999999999999, 73.91, 73.87, 74.17, 73.72999999999999, 74.05000000000001, 74.21, 74.24, 74.19, 74.32, 74.28, 74.4, 74.29, 74.59, 74.41, 74.55000000000001, 74.81, 74.88, 74.71, 74.74, 74.81, 74.83999999999999, 74.77000000000001, 74.65, 74.49, 75.07000000000001, 74.48, 74.79, 75.06, 74.95, 74.83, 74.67, 74.85000000000001, 74.92, 74.82, 74.67, 75.17, 74.81, 74.72, 75.16000000000001, 74.5, 74.92999999999999, 74.7, 75.03, 74.95, 75.01, 74.97, 75.17, 75.07000000000001, 75.21, 75.07000000000001, 75.39, 75.05, 75.4, 75.2, 75.29, 75.38, 75.22, 75.5, 75.48, 75.27000000000001, 75.68, 75.57000000000001, 75.49, 75.39, 75.64999999999999, 75.41, 75.64, 75.33999999999999, 75.56, 75.44999999999999, 75.58, 75.79, 75.77000000000001, 75.82, 75.77000000000001, 75.97, 76.24, 75.86, 75.94999999999999, 75.76, 75.86, 75.92, 76.09, 76.2, 75.94999999999999, 76.02, 76.17, 76.07000000000001, 76.22, 76.1, 76.05, 76.13, 76.1, 76.37, 76.11, 76.38000000000001, 76.14, 76.46, 76.34, 76.29, 76.08, 76.12, 76.3, 76.19, 76.13, 76.14, 76.35, 76.13, 76.31, 76.2, 75.94999999999999, 76.5, 76.44, 76.36, 76.18, 76.22, 76.4, 76.17, 76.44999999999999, 76.33, 76.61, 76.63, 76.74, 76.53999999999999, 76.36, 76.52, 76.37, 76.58, 76.57000000000001, 76.64999999999999, 76.55999999999999, 76.3, 76.68, 76.47, 76.87, 76.63, 76.55, 76.79, 76.57000000000001, 76.77000000000001, 76.88000000000001, 76.9, 76.84, 76.98, 76.82, 76.69, 76.62, 76.67, 76.78, 76.81, 76.88000000000001, 76.87, 76.9, 76.84, 76.84, 77.14, 76.8, 76.77000000000001, 76.97, 76.92, 77.03, 76.84, 77.18, 76.97, 77.32, 76.71, 77.36, 76.88000000000001, 77.38000000000001, 77.03999999999999, 77.27000000000001, 77.16, 77.2, 77.25, 77.23, 77.08, 77.33, 77.18, 77.33, 77.28, 77.25, 77.25999999999999, 77.10000000000001, 77.01, 77.28, 77.10000000000001, 77.17, 77.24, 77.57, 77.08, 77.36, 77.27000000000001, 77.58, 77.32, 77.58, 77.45, 77.5, 77.22, 77.37, 77.03999999999999, 77.31, 77.34, 77.55, 77.47, 77.57, 77.42999999999999, 77.62, 77.42, 77.66, 77.33, 77.69, 77.57, 77.63, 77.53999999999999, 77.75, 77.60000000000001, 77.64999999999999, 77.48, 77.60000000000001, 77.60000000000001, 77.38000000000001, 77.46, 77.52, 77.48, 77.69, 77.38000000000001, 77.69, 77.44, 77.71000000000001, 77.31, 77.78, 77.35, 77.71000000000001, 77.27000000000001, 77.91, 77.69, 77.69, 77.61, 77.77, 77.47, 77.51, 77.58, 77.5, 77.55, 77.75, 77.72, 77.64, 77.91, 77.69, 77.86, 77.75999999999999, 77.7, 77.88000000000001, 77.88000000000001, 77.74, 77.8, 77.75999999999999, 77.94, 77.78, 77.79, 77.95, 77.75, 77.78, 78.05, 77.96, 77.95, 77.9, 77.8, 77.73, 77.89, 77.84, 78.03999999999999, 77.97, 77.95, 77.74, 78.09, 77.82, 77.94, 77.85, 78.01, 77.64999999999999, 78.06, 77.8, 78.19, 77.71000000000001, 78.05, 77.68, 77.86999999999999, 77.73, 77.94, 77.66, 78.06, 77.86, 77.91, 77.92999999999999, 77.79, 77.94, 77.72, 78.09, 77.79, 78.13, 78.0, 78.13, 78.03, 78.13, 77.92999999999999, 78.08, 77.88000000000001, 78.01, 77.79, 78.19, 78.05, 78.08, 77.84, 78.01, 77.92, 78.18, 77.82, 78.18, 77.89, 78.16, 77.69, 78.0, 77.8, 78.03, 77.99000000000001, 77.92999999999999, 77.75999999999999, 78.0, 77.86, 78.03, 77.83, 78.14999999999999, 77.7, 78.07, 77.64999999999999, 77.97, 77.72, 78.07, 77.60000000000001, 78.11, 77.69, 77.96, 77.64, 78.09, 77.78, 78.07, 77.72, 78.0, 77.66, 78.08, 77.95, 78.13, 77.78, 78.01, 77.88000000000001, 78.09, 77.79, 78.25999999999999, 78.02, 78.14999999999999, 77.88000000000001, 78.19, 77.92999999999999, 77.95, 77.9, 78.36, 78.12, 78.03999999999999, 78.10000000000001, 78.05, 78.08, 78.22, 78.08, 78.06, 78.12, 78.16, 78.06, 78.14, 78.0, 78.17, 78.03, 78.38000000000001, 77.89, 78.32000000000001, 77.96, 78.34, 78.01, 78.39, 77.92999999999999, 78.43, 78.21000000000001, 78.27, 78.31, 78.10000000000001, 78.33, 78.18, 78.16, 78.29, 78.18, 78.31, 78.33, 78.45, 78.14999999999999, 78.53999999999999, 78.25999999999999, 78.53999999999999, 78.35, 78.46, 78.36, 78.56, 78.25999999999999, 78.56, 78.19, 78.43, 78.12, 78.51, 78.10000000000001, 78.43, 78.14, 78.46, 78.41, 78.43, 78.18, 78.59, 78.3, 78.56, 78.33, 78.63, 78.36999999999999, 78.33, 78.35, 78.5, 78.33, 78.47, 78.44, 78.31, 78.53, 78.22, 78.36999999999999, 78.29, 78.55, 78.4, 78.42, 78.52, 78.47, 78.47, 78.60000000000001, 78.36, 78.36999999999999, 78.41, 78.32000000000001, 78.55, 78.29, 78.46, 78.38000000000001, 78.49000000000001, 78.46, 78.4, 78.46, 78.44, 78.46, 78.43, 78.38000000000001, 78.53, 78.42, 78.64999999999999, 78.33, 78.47, 78.4, 78.53, 78.60000000000001, 78.5, 78.36999999999999, 78.5, 78.38000000000001, 78.46, 78.32000000000001, 78.43, 78.33, 78.56, 78.43, 78.53999999999999, 78.39, 78.59, 78.53999999999999, 78.67, 78.49000000000001, 78.75999999999999, 78.36, 78.88, 78.61, 78.8, 78.59, 78.67, 78.63, 78.69, 78.85, 78.58000000000001, 78.51, 78.64, 78.58000000000001, 78.62, 78.68, 78.7, 78.49000000000001, 78.69, 78.77, 78.78, 78.53999999999999, 78.81, 78.52, 78.78, 78.73, 78.73, 78.64, 78.75, 78.71000000000001, 78.74, 78.86, 78.73, 78.77, 78.99000000000001, 78.67, 78.91, 78.51, 78.94, 78.56, 78.92, 78.59, 78.79, 78.79, 78.8, 78.68, 78.74, 78.74, 78.77, 78.67, 78.9, 78.60000000000001, 78.83, 78.64999999999999, 78.77, 78.72, 78.81, 78.68, 78.77, 78.79, 78.9, 78.7, 78.97, 78.68, 78.94, 78.7, 78.94, 78.7, 79.03, 78.74, 78.86999999999999, 78.69, 78.92, 78.69, 78.95, 78.8, 78.75999999999999, 78.83, 78.77, 78.7, 78.69, 78.73, 78.75, 78.71000000000001, 78.71000000000001, 78.79, 78.84, 78.75999999999999, 78.93, 78.81, 78.93, 78.82000000000001, 78.93, 78.84, 78.97999999999999, 78.8, 78.88, 78.74, 78.95, 78.75, 79.0, 78.77, 79.08, 78.64, 79.03999999999999, 78.59, 79.03999999999999, 78.68, 79.0, 78.79, 79.09, 78.78, 79.11, 78.89, 78.97999999999999, 78.93, 78.95, 78.86999999999999, 79.0, 78.96, 79.10000000000001, 78.95, 79.07, 78.96, 79.03, 78.97, 79.03, 78.94, 79.0, 79.14999999999999, 79.0, 79.03, 78.92, 78.96, 79.05, 79.07, 79.17, 79.01, 78.97999999999999, 78.93, 79.09, 78.92, 79.01, 78.95, 79.03999999999999, 78.82000000000001, 79.07, 78.9, 79.07, 78.86999999999999, 79.01, 78.97999999999999, 79.17, 79.06, 78.97, 79.06, 79.05, 78.99000000000001, 79.0, 78.88, 79.09, 79.07, 79.09, 78.9, 79.06, 78.97, 79.03999999999999, 79.02, 78.96, 79.05, 79.02, 79.08, 79.07, 78.97999999999999, 79.12, 79.12, 79.07, 78.92, 79.03999999999999, 78.86999999999999, 79.03, 78.89, 79.02, 78.86999999999999, 79.02, 78.97999999999999, 79.05, 78.93, 79.06, 78.94, 79.07, 78.97999999999999, 79.19, 79.05, 79.10000000000001, 79.17, 79.13, 79.16, 79.09, 79.14, 79.11, 79.13, 79.07, 79.22, 79.22, 79.17999999999999, 79.21000000000001, 79.21000000000001, 79.2, 79.2, 79.17999999999999, 79.22, 79.10000000000001, 79.17, 79.14999999999999, 79.31, 79.14999999999999, 79.43, 79.10000000000001, 79.22, 79.02, 79.25, 79.10000000000001, 79.3, 79.25, 79.25, 79.14999999999999, 79.34, 79.25999999999999, 79.25, 79.19, 79.16, 79.25, 79.08, 79.29, 79.07, 79.25999999999999, 79.14, 79.17999999999999, 79.25, 79.17999999999999, 79.25, 79.36, 79.12, 79.25999999999999, 79.21000000000001, 79.32000000000001, 79.22, 79.42, 79.25999999999999, 79.22, 79.19, 79.3, 79.16, 79.3, 79.12, 79.14, 79.17, 79.17, 79.2, 79.32000000000001, 79.21000000000001, 79.32000000000001, 79.17, 79.35, 79.27, 79.09, 79.36, 79.03, 79.34, 79.19, 79.3, 79.25999999999999, 79.33, 79.10000000000001, 79.28, 79.17999999999999, 79.3, 79.32000000000001, 79.36999999999999, 79.3, 79.29, 79.36999999999999, 79.17999999999999, 79.36999999999999, 79.27, 79.31, 79.29, 79.3, 79.38, 79.3, 79.4, 79.33, 79.34, 79.31, 79.25999999999999, 79.33, 79.28, 79.34, 79.44, 79.28, 79.45, 79.22, 79.36, 79.3, 79.43, 79.31, 79.3, 79.27, 79.34, 79.25, 79.42, 79.3, 79.39, 79.28, 79.31, 79.24, 79.25999999999999, 79.17999999999999, 79.25999999999999, 79.19, 79.34, 79.3, 79.33, 79.3, 79.36, 79.17999999999999, 79.33, 79.35, 79.16, 79.33, 79.25999999999999, 79.29, 79.27, 79.29, 79.33, 79.12, 79.32000000000001, 79.06, 79.32000000000001, 79.16, 79.21000000000001, 79.22, 79.29, 79.22, 79.3, 79.25999999999999, 79.35, 79.14, 79.39, 79.3, 79.43, 79.36999999999999, 79.3, 79.3, 79.34, 79.17, 79.42, 79.3, 79.56, 79.3, 79.45, 79.25, 79.47999999999999, 79.17, 79.45, 79.21000000000001, 79.35, 79.17999999999999, 79.44, 79.10000000000001, 79.44, 79.17999999999999, 79.31, 79.35, 79.4, 79.27, 79.41, 79.24, 79.36999999999999, 79.31, 79.42, 79.28, 79.36, 79.32000000000001, 79.32000000000001, 79.29, 79.34, 79.10000000000001, 79.42, 79.14999999999999, 79.28, 79.21000000000001, 79.3, 79.22, 79.34, 79.2, 79.36999999999999, 79.21000000000001, 79.34, 79.14, 79.36999999999999, 79.13, 79.23, 79.05, 79.23, 79.0, 79.3, 79.25, 79.36, 79.14999999999999, 79.3, 79.17, 79.27, 79.29, 79.44, 79.3, 79.38, 79.42, 79.43, 79.4, 79.4, 79.24, 79.36999999999999, 79.32000000000001, 79.33, 79.38, 79.29, 79.28, 79.36999999999999, 79.21000000000001, 79.36999999999999, 79.3, 79.38, 79.34, 79.46, 79.23, 79.43, 79.27, 79.33, 79.31, 79.34, 79.39, 79.39, 79.29, 79.33, 79.33, 79.35, 79.51, 79.45, 79.61, 79.35, 79.64, 79.4, 79.56, 79.36, 79.53, 79.36, 79.54, 79.29, 79.60000000000001, 79.27, 79.69000000000001, 79.44, 79.75999999999999, 79.47999999999999, 79.71000000000001, 79.27, 79.88, 79.32000000000001, 79.91, 79.33, 79.69000000000001, 79.42, 79.81, 79.49000000000001, 79.77, 79.38, 79.55, 79.36999999999999, 79.71000000000001, 79.3, 79.55, 79.27, 79.62, 79.33, 79.63, 79.36, 79.65, 79.34, 79.53, 79.49000000000001, 79.53, 79.46, 79.5, 79.47, 79.45, 79.49000000000001, 79.73, 79.57, 79.74, 79.45, 79.71000000000001, 79.55, 79.7, 79.5, 79.75, 79.67999999999999, 79.61, 79.53, 79.71000000000001, 79.52, 79.66, 79.5, 79.58, 79.60000000000001, 79.51, 79.60000000000001, 79.4, 79.57, 79.42, 79.62, 79.5, 79.56, 79.49000000000001, 79.66, 79.53, 79.62, 79.57, 79.59, 79.65, 79.59, 79.60000000000001, 79.59, 79.58, 79.64, 79.61, 79.55, 79.67999999999999, 79.58, 79.57, 79.64, 79.66, 79.62, 79.58, 79.63, 79.69000000000001, 79.56, 79.74, 79.55, 79.61, 79.64, 79.57, 79.67999999999999, 79.66, 79.59, 79.60000000000001, 79.64, 79.49000000000001, 79.57, 79.51, 79.62, 79.57, 79.64, 79.56, 79.75999999999999, 79.44, 79.66, 79.45, 79.5, 79.55, 79.4, 79.62, 79.57, 79.59, 79.51, 79.58, 79.60000000000001, 79.62, 79.53, 79.55, 79.45, 79.51, 79.47999999999999, 79.51, 79.46, 79.53, 79.46, 79.60000000000001, 79.36999999999999, 79.57, 79.45, 79.59, 79.39, 79.67999999999999, 79.32000000000001, 79.67999999999999, 79.36, 79.57, 79.47, 79.61, 79.57, 79.52, 79.38, 79.63, 79.56, 79.78, 79.55, 79.62, 79.45, 79.67, 79.59, 79.69000000000001, 79.58, 79.71000000000001, 79.61, 79.66, 79.66, 79.79, 79.57, 79.72, 79.62, 79.65, 79.63, 79.61, 79.60000000000001, 79.56, 79.43, 79.64, 79.54, 79.63, 79.54, 79.78, 79.59, 79.7, 79.60000000000001, 79.80000000000001, 79.49000000000001, 79.75999999999999, 79.57, 79.80000000000001, 79.60000000000001, 79.82000000000001, 79.57, 79.92, 79.56, 79.83, 79.60000000000001, 79.86, 79.65, 79.91, 79.69000000000001, 79.97999999999999, 79.75, 79.83, 79.65, 79.91, 79.64, 79.9, 79.60000000000001, 79.94, 79.67, 79.86999999999999, 79.66, 79.88, 79.67, 79.86, 79.64, 79.91, 79.67999999999999, 79.88, 79.58, 79.82000000000001, 79.67999999999999, 79.86, 79.64, 79.95, 79.61, 80.05, 79.71000000000001, 79.99000000000001, 79.71000000000001, 79.96, 79.81, 79.93, 79.67, 79.9, 79.72, 79.97999999999999, 79.67, 79.96, 79.65, 79.97, 79.75, 79.80000000000001, 79.72, 79.86, 79.69000000000001, 79.83, 79.75999999999999, 79.81, 79.66, 79.74, 79.66, 79.83, 79.69000000000001, 79.78, 79.65, 79.85, 79.73, 79.82000000000001, 79.75, 79.89, 79.66, 79.91, 79.83, 79.97, 79.72, 79.95, 79.74, 79.86999999999999, 79.75999999999999, 79.74, 79.84, 79.78, 79.89, 79.72, 79.73, 79.73, 79.71000000000001, 79.77, 79.61, 79.75999999999999, 79.72, 79.71000000000001, 79.77, 79.78, 79.86, 79.93, 79.91, 79.86, 79.97, 79.86999999999999, 79.88, 80.0, 79.83, 79.97999999999999, 79.86999999999999, 79.97, 79.71000000000001, 79.86999999999999, 79.77, 79.75999999999999, 79.73, 79.9, 79.81, 79.86, 79.73, 79.89, 79.7, 79.84, 79.75999999999999, 79.91, 79.79, 79.88, 79.78, 79.84, 79.83, 79.9, 79.86, 79.75999999999999, 79.89, 79.75999999999999, 79.91, 79.75999999999999, 79.84, 79.83, 79.82000000000001, 79.82000000000001, 79.78, 79.94, 79.78, 79.91, 79.78, 79.82000000000001, 79.74, 79.99000000000001, 79.78, 80.04, 79.77, 80.03, 79.80000000000001, 80.02, 79.83, 79.94, 79.72, 80.06, 79.75999999999999, 80.02, 79.73, 80.05, 79.83, 80.08999999999999, 79.80000000000001, 80.06, 79.84, 80.08999999999999, 79.86999999999999, 80.13, 79.97, 80.13, 79.86999999999999, 80.03, 79.97999999999999, 80.10000000000001, 80.01, 80.13, 79.97, 80.13, 79.93, 80.10000000000001, 79.88, 80.01, 79.86, 80.08999999999999, 79.94, 80.06, 79.9, 80.01, 79.91, 79.97999999999999, 79.89, 79.94, 79.92, 79.92, 79.86999999999999, 80.06, 79.86, 79.97999999999999, 79.86999999999999, 79.97999999999999, 79.91, 79.91, 79.94, 79.9, 79.97, 80.05, 79.99000000000001, 80.01, 79.85, 79.97, 79.93, 80.13, 79.97999999999999, 80.03, 80.11, 80.0, 80.02, 80.01, 80.13, 80.01, 80.13, 80.05, 80.08999999999999, 79.97999999999999, 80.04, 80.0, 80.01, 79.99000000000001, 79.89, 79.97999999999999, 80.0, 79.99000000000001, 79.94, 79.88, 79.9, 79.93, 79.93, 79.99000000000001, 79.84, 79.96, 80.01, 79.9, 79.91, 79.95, 79.86, 80.0, 79.96, 79.97999999999999, 79.93, 80.08, 79.83, 80.05, 79.83, 80.04, 79.75999999999999, 80.06, 79.83, 80.08999999999999, 79.92, 80.12, 79.9, 80.10000000000001, 79.92, 80.24, 79.95, 80.14, 79.9, 80.19, 79.99000000000001, 80.17, 80.01, 80.17999999999999, 80.06, 80.08999999999999, 80.04, 80.04, 80.04, 79.99000000000001, 80.05, 80.06, 80.0, 80.07, 80.05, 80.06, 80.02, 80.02, 80.08999999999999, 80.07, 80.04, 80.07, 80.16, 80.05, 80.08, 80.08999999999999, 80.11, 80.07, 80.0, 80.04, 80.11, 80.08999999999999, 80.08999999999999, 80.16, 80.13, 80.19, 80.0, 80.19, 80.07, 80.13, 80.08, 80.24, 80.04, 80.17, 80.07, 80.15, 80.08999999999999, 80.14, 80.08, 80.14, 80.13, 80.2, 80.05, 80.15, 80.10000000000001, 80.12, 80.06, 80.07, 80.01, 80.11, 80.03, 80.10000000000001, 80.10000000000001, 80.08999999999999, 80.03, 80.08, 80.06, 80.10000000000001, 80.02, 80.14, 80.01, 80.04, 80.0, 80.13, 79.93, 80.19, 79.96, 80.04, 79.92, 80.03, 80.02, 80.02, 79.95, 80.02, 79.91, 80.04, 79.94, 79.96, 79.91, 80.0, 79.86, 79.95, 79.93, 79.94, 79.86999999999999, 79.96, 79.81, 80.05, 79.74, 80.02, 79.82000000000001, 80.05, 79.83, 80.04, 79.84, 80.14, 79.9, 80.13, 79.97, 80.08999999999999, 79.96, 79.99000000000001, 79.94, 80.04, 80.02, 80.04, 80.0, 80.01, 80.0, 79.96, 79.97, 79.86, 79.97999999999999, 79.88, 79.97, 79.84, 79.97999999999999, 79.86999999999999, 79.99000000000001, 80.0, 80.01, 79.97999999999999, 79.95, 79.99000000000001, 79.97, 80.06, 79.99000000000001, 80.10000000000001, 79.91, 80.08999999999999, 79.85, 80.05, 79.93, 79.99000000000001, 79.94, 80.03, 79.78, 80.12, 79.82000000000001, 79.97999999999999, 79.89, 80.02, 79.85, 80.04, 79.9, 80.04, 79.78, 80.04, 79.80000000000001, 80.07, 79.69000000000001, 80.12, 79.75, 80.10000000000001, 79.77, 80.06, 79.79, 80.03, 79.72, 80.02, 79.78, 80.01, 79.75, 80.05, 79.80000000000001, 80.08999999999999, 79.86, 80.21000000000001, 79.75999999999999, 80.21000000000001, 79.67999999999999, 80.2, 79.75, 80.23, 79.74, 80.14, 79.79, 80.14, 79.84, 80.2, 79.79, 80.13, 79.86999999999999, 80.08, 79.88, 80.12, 79.88, 80.19, 79.85, 80.12, 79.86999999999999, 80.21000000000001, 79.84, 80.16, 79.86, 80.14, 79.79, 80.22, 79.86999999999999, 80.23, 79.91, 80.24, 79.85, 80.17999999999999, 79.9, 80.33, 79.88, 80.25999999999999, 79.91, 80.25999999999999, 79.95, 80.32000000000001, 79.94, 80.36, 79.93, 80.31, 79.92, 80.4, 79.89, 80.44, 79.86999999999999, 80.31, 79.81, 80.32000000000001, 79.82000000000001, 80.25, 79.92, 80.32000000000001, 79.83, 80.32000000000001, 79.80000000000001, 80.30000000000001, 79.75, 80.25, 79.82000000000001, 80.27, 79.74, 80.2, 79.85, 80.35, 79.95, 80.17999999999999, 79.96, 80.28, 80.0, 80.23, 79.95, 80.15, 80.0, 80.17, 79.96, 80.16, 79.91, 80.08999999999999, 80.05, 80.06, 80.08, 80.08, 80.08, 80.11, 80.06, 80.02, 80.07, 80.10000000000001, 80.05, 80.05, 80.02, 80.01, 80.01, 80.07, 79.99000000000001, 80.0, 79.91, 80.0, 79.93, 80.04, 79.97999999999999, 80.08, 79.91, 80.07, 79.89, 80.05, 79.93, 80.08, 79.99000000000001, 80.06, 80.0, 80.05, 80.04, 80.13, 80.07, 80.17, 80.04, 80.13, 80.10000000000001, 80.23, 80.05, 80.25, 80.08999999999999, 80.13, 80.05, 80.25, 80.16, 80.17, 80.16, 80.23, 80.17999999999999, 80.2, 80.15, 80.25, 80.15, 80.24, 80.12, 80.17, 80.08, 80.16, 80.15, 80.19, 80.2, 80.24, 80.06, 80.34, 80.2, 80.32000000000001, 80.15, 80.28999999999999, 80.14, 80.25, 80.25999999999999, 80.28999999999999, 80.24, 80.13, 80.10000000000001, 80.28, 80.14, 80.19, 80.16, 80.39, 80.14, 80.43, 80.22, 80.49, 80.25, 80.36, 80.22, 80.45, 80.11, 80.39, 80.17, 80.28999999999999, 80.23, 80.34, 80.19, 80.34, 80.13, 80.35, 80.08999999999999, 80.33, 80.17, 80.24, 80.07, 80.27, 80.13, 80.32000000000001, 80.16, 80.36999999999999, 80.25999999999999, 80.32000000000001, 80.07, 80.28, 79.97, 80.38, 80.07, 80.41, 80.08999999999999, 80.44, 80.14, 80.47, 80.08999999999999, 80.46, 80.12, 80.45, 80.07, 80.47999999999999, 80.11, 80.42, 80.02, 80.32000000000001, 79.97999999999999, 80.46, 79.93, 80.49, 79.99000000000001, 80.46, 80.10000000000001, 80.46, 80.08, 80.4, 80.08, 80.39, 80.04, 80.52, 80.13, 80.47999999999999, 80.10000000000001, 80.49, 80.13, 80.51, 80.11, 80.43, 80.17, 80.52, 80.13, 80.46, 80.14, 80.46, 80.08, 80.45, 80.16, 80.42, 80.2, 80.42, 80.17999999999999, 80.47, 80.19, 80.47999999999999, 80.17, 80.47999999999999, 80.16, 80.5, 80.17999999999999, 80.57, 80.15, 80.5, 80.08999999999999, 80.42, 80.21000000000001, 80.45, 80.16, 80.39, 80.10000000000001, 80.55, 80.08, 80.51, 80.03, 80.61, 79.96, 80.57, 80.01, 80.54, 80.07, 80.39, 79.95, 80.51, 80.04, 80.4, 80.22, 80.41, 80.15, 80.41, 80.14, 80.41, 80.06, 80.44, 80.08, 80.47, 80.08999999999999, 80.45, 80.08999999999999, 80.36999999999999, 80.13, 80.43, 80.13, 80.36, 80.14, 80.38, 80.13, 80.36, 80.10000000000001, 80.32000000000001, 80.23, 80.30000000000001, 80.28, 80.33, 80.25, 80.39, 80.23, 80.4, 80.31, 80.22, 80.30000000000001, 80.27, 80.36, 80.28999999999999, 80.14, 80.32000000000001, 80.19, 80.32000000000001, 80.19, 80.31, 80.2, 80.35, 80.16, 80.33, 80.13, 80.28, 80.07, 80.24, 80.08999999999999, 80.24, 80.05, 80.36999999999999, 80.06, 80.32000000000001, 80.03, 80.32000000000001, 80.06, 80.39, 80.07, 80.4, 80.08, 80.32000000000001, 80.11, 80.36999999999999, 80.03, 80.47, 80.08999999999999, 80.46, 80.03, 80.45, 80.08, 80.44, 80.06, 80.45, 80.12, 80.57, 80.02, 80.51, 80.07, 80.55, 80.06, 80.67999999999999, 80.01, 80.57, 80.04, 80.58, 80.10000000000001, 80.55, 79.99000000000001, 80.54, 80.05, 80.53, 80.03, 80.49, 80.03, 80.58, 80.08999999999999, 80.57, 80.02, 80.63, 80.03, 80.55, 80.06, 80.56, 80.02, 80.49, 80.01, 80.56, 80.06, 80.54, 80.03, 80.53, 80.15, 80.51, 80.12, 80.47, 80.11, 80.5, 80.08999999999999, 80.51, 80.12, 80.51, 80.13, 80.55, 80.06, 80.56, 80.03, 80.57, 80.11, 80.57, 80.11, 80.60000000000001, 80.01, 80.58999999999999, 80.04, 80.60000000000001, 79.97999999999999, 80.56, 80.02, 80.55, 79.97999999999999, 80.67999999999999, 79.97, 80.54, 80.01, 80.5, 80.04, 80.49, 80.01, 80.52, 79.94, 80.55, 79.95, 80.58999999999999, 80.12, 80.55, 80.06, 80.56, 80.01, 80.57, 79.88, 80.56, 79.95, 80.51, 80.08999999999999, 80.55, 80.07, 80.49, 80.01, 80.53, 79.99000000000001, 80.56, 80.0, 80.62, 80.01, 80.7, 79.97, 80.7, 79.97, 80.60000000000001, 79.93, 80.52, 79.97999999999999, 80.5, 80.12, 80.47, 80.01, 80.46, 80.07, 80.44, 80.05, 80.44, 80.11, 80.5, 80.04, 80.53, 79.99000000000001, 80.45, 80.08, 80.53, 80.12, 80.51, 80.21000000000001, 80.46, 80.17999999999999, 80.54, 80.2, 80.46, 80.16, 80.44, 80.16, 80.47, 80.21000000000001, 80.39, 80.2, 80.47, 80.17999999999999, 80.46, 80.23, 80.47, 80.21000000000001, 80.44, 80.23, 80.44, 80.22, 80.42, 80.23, 80.4, 80.22, 80.45, 80.17999999999999, 80.51, 80.15, 80.47999999999999, 80.10000000000001, 80.5, 80.15, 80.47, 80.21000000000001, 80.51, 80.21000000000001, 80.54, 80.25999999999999, 80.57, 80.33, 80.55, 80.25, 80.46, 80.30000000000001, 80.33, 80.28, 80.44, 80.17999999999999, 80.53, 80.16, 80.52, 80.12, 80.47, 80.04, 80.49, 80.08, 80.45, 80.21000000000001, 80.47999999999999, 80.25, 80.42, 80.16, 80.36999999999999, 80.25, 80.35, 80.25, 80.33, 80.17999999999999, 80.38, 80.2, 80.36, 80.16, 80.35, 80.14, 80.42, 80.17999999999999, 80.47999999999999, 80.24, 80.46, 80.31, 80.45, 80.31, 80.52, 80.22, 80.51, 80.21000000000001, 80.51, 80.22, 80.60000000000001, 80.28, 80.58999999999999, 80.2, 80.66, 80.24, 80.62, 80.30000000000001, 80.58999999999999, 80.22, 80.55, 80.23, 80.55, 80.14, 80.56, 80.12, 80.51, 80.16, 80.56, 80.13, 80.53, 80.21000000000001, 80.5, 80.07, 80.47999999999999, 80.16, 80.49, 80.19, 80.54, 80.17999999999999, 80.52, 80.17999999999999, 80.5, 80.15, 80.47999999999999, 80.22, 80.44, 80.19, 80.56, 80.25999999999999, 80.57, 80.22, 80.60000000000001, 80.30000000000001, 80.65, 80.24, 80.57, 80.31, 80.54, 80.28999999999999, 80.60000000000001, 80.33, 80.47999999999999, 80.23, 80.53, 80.31, 80.57, 80.32000000000001, 80.57, 80.35, 80.56, 80.30000000000001, 80.58, 80.34, 80.56, 80.30000000000001, 80.52, 80.28, 80.55, 80.33, 80.55, 80.35, 80.55, 80.30000000000001, 80.60000000000001, 80.28, 80.67, 80.31, 80.66, 80.41, 80.71000000000001, 80.36999999999999, 80.74, 80.35, 80.81, 80.30000000000001, 80.75, 80.32000000000001, 80.64, 80.28999999999999, 80.71000000000001, 80.25999999999999, 80.60000000000001, 80.27, 80.56, 80.27, 80.60000000000001, 80.36999999999999, 80.64, 80.33, 80.58999999999999, 80.31, 80.64, 80.28999999999999, 80.57, 80.36999999999999, 80.51, 80.27, 80.55, 80.25999999999999, 80.46, 80.32000000000001, 80.45, 80.35, 80.39, 80.44, 80.4, 80.35, 80.54, 80.38, 80.57, 80.36999999999999, 80.60000000000001, 80.47, 80.58, 80.36, 80.61, 80.46, 80.58, 80.39, 80.5, 80.45, 80.55, 80.38, 80.53, 80.39, 80.61, 80.35, 80.54, 80.25, 80.56, 80.28, 80.71000000000001, 80.30000000000001, 80.67999999999999, 80.33, 80.72, 80.36, 80.72, 80.34, 80.69, 80.31, 80.76, 80.33, 80.67999999999999, 80.34, 80.64, 80.36, 80.58999999999999, 80.44, 80.51, 80.45, 80.60000000000001, 80.49, 80.46, 80.46, 80.46, 80.42, 80.49, 80.4, 80.53, 80.45, 80.52, 80.4, 80.43, 80.4, 80.34, 80.46, 80.5, 80.36999999999999, 80.54, 80.33, 80.53, 80.36, 80.5, 80.25, 80.44, 80.31, 80.47999999999999, 80.31, 80.39, 80.41, 80.34, 80.4, 80.38, 80.33, 80.32000000000001, 80.35, 80.39, 80.31, 80.41, 80.31, 80.35, 80.28999999999999, 80.39, 80.28, 80.39, 80.32000000000001, 80.4, 80.32000000000001, 80.38, 80.36, 80.42, 80.25999999999999, 80.41, 80.23, 80.4, 80.23, 80.36, 80.33, 80.39, 80.36999999999999, 80.39, 80.39, 80.43, 80.30000000000001, 80.38, 80.28999999999999, 80.41, 80.25, 80.39, 80.24, 80.42, 80.27, 80.47999999999999, 80.19, 80.53, 80.25999999999999, 80.5, 80.28999999999999, 80.53, 80.25, 80.47999999999999, 80.25999999999999, 80.58, 80.30000000000001, 80.52, 80.32000000000001, 80.58999999999999, 80.27, 80.52, 80.35, 80.42, 80.35, 80.52, 80.31, 80.51, 80.38, 80.46, 80.30000000000001, 80.49, 80.38, 80.47999999999999, 80.45, 80.43, 80.39, 80.41, 80.42, 80.39, 80.33, 80.46, 80.36, 80.52, 80.39, 80.56, 80.28, 80.61, 80.31, 80.58999999999999, 80.4, 80.57, 80.36999999999999, 80.54, 80.32000000000001, 80.57, 80.44, 80.57, 80.49, 80.5, 80.51, 80.57, 80.4, 80.47, 80.39, 80.49, 80.43, 80.53, 80.4, 80.62, 80.35, 80.71000000000001, 80.41, 80.74, 80.4, 80.65, 80.33, 80.63, 80.33, 80.63, 80.30000000000001, 80.58, 80.31, 80.57, 80.36, 80.57, 80.34, 80.58999999999999, 80.33, 80.62, 80.39, 80.56, 80.36, 80.51, 80.36999999999999, 80.54, 80.4, 80.55, 80.39, 80.47, 80.36, 80.53, 80.39, 80.56, 80.42, 80.60000000000001, 80.36999999999999, 80.62, 80.4, 80.62, 80.45, 80.58999999999999, 80.42, 80.61, 80.41, 80.67999999999999, 80.53, 80.73, 80.5, 80.69, 80.5, 80.73, 80.55, 80.71000000000001, 80.54, 80.65, 80.5, 80.58, 80.46, 80.65, 80.51, 80.63, 80.51, 80.60000000000001, 80.49, 80.65, 80.53, 80.62, 80.5, 80.60000000000001, 80.54, 80.63, 80.5, 80.63, 80.47999999999999, 80.67999999999999, 80.53, 80.67, 80.49, 80.64, 80.52, 80.69, 80.45, 80.64, 80.47, 80.76, 80.43, 80.73, 80.42, 80.72, 80.47, 80.72, 80.5, 80.65, 80.56, 80.64, 80.52, 80.66, 80.55, 80.65, 80.5, 80.65, 80.47999999999999, 80.67, 80.52, 80.71000000000001, 80.53, 80.67, 80.53, 80.65, 80.58, 80.67999999999999, 80.51, 80.67999999999999, 80.56, 80.7, 80.53, 80.69, 80.54, 80.74, 80.5, 80.71000000000001, 80.57, 80.7, 80.46, 80.78, 80.54, 80.82000000000001, 80.51, 80.76, 80.53, 80.76, 80.60000000000001, 80.76, 80.58, 80.71000000000001, 80.60000000000001, 80.71000000000001, 80.57, 80.73, 80.54, 80.69, 80.55, 80.67999999999999, 80.52, 80.71000000000001, 80.49, 80.74, 80.51, 80.72, 80.53, 80.72, 80.56, 80.72, 80.51, 80.69, 80.53, 80.67, 80.54, 80.65, 80.61, 80.62, 80.58999999999999, 80.7, 80.61, 80.60000000000001, 80.58, 80.61, 80.62, 80.62, 80.60000000000001, 80.63, 80.61, 80.66, 80.57, 80.62, 80.53, 80.60000000000001, 80.60000000000001, 80.60000000000001, 80.62, 80.58, 80.58, 80.53, 80.58999999999999, 80.53, 80.58, 80.54, 80.61, 80.53, 80.62, 80.53, 80.64, 80.49, 80.58999999999999, 80.66, 80.62, 80.56, 80.61, 80.62, 80.58999999999999, 80.67, 80.56, 80.7, 80.54, 80.62, 80.55, 80.67, 80.58999999999999, 80.72, 80.58999999999999, 80.76, 80.57, 80.66, 80.61, 80.69, 80.56, 80.65, 80.69, 80.63, 80.67, 80.67, 80.62, 80.7, 80.63, 80.66, 80.62, 80.56, 80.72, 80.47999999999999, 80.63, 80.56, 80.5, 80.51, 80.54, 80.41, 80.65, 80.49, 80.65, 80.36, 80.55, 80.58, 80.53, 80.54, 80.51, 80.57, 80.49, 80.58, 80.58, 80.55, 80.58999999999999, 80.58999999999999, 80.63, 80.63, 80.58999999999999, 80.57, 80.63, 80.58, 80.65, 80.46, 80.62, 80.57, 80.67, 80.54, 80.58, 80.52, 80.56, 80.54, 80.63, 80.62, 80.66, 80.61, 80.65, 80.58, 80.65, 80.63, 80.62, 80.58, 80.56, 80.52, 80.54, 80.57, 80.52, 80.56, 80.63, 80.67999999999999, 80.57, 80.52, 80.47999999999999, 80.63, 80.49, 80.63, 80.49, 80.63, 80.54, 80.67999999999999, 80.63, 80.62, 80.61, 80.63, 80.62, 80.61, 80.65, 80.7, 80.72, 80.66, 80.71000000000001, 80.63, 80.72, 80.58, 80.7, 80.63, 80.71000000000001, 80.65, 80.66, 80.67999999999999, 80.69, 80.72, 80.66, 80.72, 80.69, 80.74, 80.64, 80.62, 80.62, 80.66, 80.71000000000001, 80.69, 80.65, 80.77, 80.69, 80.71000000000001, 80.81, 80.69, 80.81, 80.73, 80.81, 80.7, 80.82000000000001, 80.76, 80.77, 80.7, 80.73, 80.67999999999999]\n"
          ]
        },
        {
          "output_type": "execute_result",
          "data": {
            "text/plain": [
              "[<matplotlib.lines.Line2D at 0x7f56425a3b50>]"
            ]
          },
          "metadata": {},
          "execution_count": 11
        },
        {
          "output_type": "display_data",
          "data": {
            "image/png": "[encoded data removed]",
            "text/plain": [
              "<Figure size 432x288 with 1 Axes>"
            ]
          },
          "metadata": {
            "needs_background": "light"
          }
        }
      ],
      "source": [
        "print(accuracy)\n",
        "# plt.plot(error, [i for i in range(NUM_EPOCHS + 1)])\n",
        "plt.plot([i for i in range(NUM_EPOCHS + 1)], error)"
      ]
    },
    {
      "cell_type": "code",
      "execution_count": 12,
      "metadata": {
        "id": "Rw196p8qugZJ",
        "colab": {
          "base_uri": "https://localhost:8080/",
          "height": 282
        },
        "outputId": "2fa75ad6-b162-42f0-cf34-337696d4a3e3"
      },
      "outputs": [
        {
          "output_type": "execute_result",
          "data": {
            "text/plain": [
              "[<matplotlib.lines.Line2D at 0x7f564251acd0>]"
            ]
          },
          "metadata": {},
          "execution_count": 12
        },
        {
          "output_type": "display_data",
          "data": {
            "image/png": "[encoded data removed]",
            "text/plain": [
              "<Figure size 432x288 with 1 Axes>"
            ]
          },
          "metadata": {
            "needs_background": "light"
          }
        }
      ],
      "source": [
        "plt.plot([i for i in range(NUM_EPOCHS + 1)], accuracy)"
      ]
    },
    {
      "cell_type": "code",
      "execution_count": null,
      "metadata": {
        "id": "LSnVnBkAkiXf"
      },
      "outputs": [],
      "source": [
        ""
      ]
    }
  ],
  "metadata": {
    "accelerator": "GPU",
    "colab": {
      "collapsed_sections": [],
      "name": "IST_597 Assignment 2",
      "provenance": []
    },
    "kernelspec": {
      "display_name": "Python 3",
      "name": "python3"
    }
  },
  "nbformat": 4,
  "nbformat_minor": 0
}