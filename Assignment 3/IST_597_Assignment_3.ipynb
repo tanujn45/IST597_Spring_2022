{
  "cells": [
    {
      "cell_type": "code",
      "execution_count": null,
      "metadata": {
        "id": "d4BrNwuyluft"
      },
      "outputs": [],
      "source": [
        "import os\n",
        "import numpy as np\n",
        "import time\n",
        "import tensorflow as tf\n",
        "from tensorflow.keras import datasets\n",
        "import matplotlib.pyplot as plt"
      ]
    },
    {
      "cell_type": "code",
      "execution_count": null,
      "metadata": {
        "id": "RWsFjA76mTjC"
      },
      "outputs": [],
      "source": [
        "seed_val = 5218\n",
        "\n",
        "np.random.seed(seed_val)\n",
        "tf.random.set_seed(seed_val)"
      ]
    },
    {
      "cell_type": "code",
      "execution_count": null,
      "metadata": {
        "colab": {
          "base_uri": "https://localhost:8080/"
        },
        "id": "4QNbgUp9mHnV",
        "outputId": "4010e8ae-379f-485e-f421-5264562dedda"
      },
      "outputs": [
        {
          "data": {
            "text/plain": [
              "[PhysicalDevice(name='/physical_device:GPU:0', device_type='GPU')]"
            ]
          },
          "execution_count": 84,
          "metadata": {},
          "output_type": "execute_result"
        }
      ],
      "source": [
        "tf.config.list_physical_devices('GPU')"
      ]
    },
    {
      "cell_type": "code",
      "execution_count": null,
      "metadata": {
        "colab": {
          "base_uri": "https://localhost:8080/"
        },
        "id": "MkBKmLAomKiR",
        "outputId": "277969b1-92b0-478c-98fa-e13365879f82"
      },
      "outputs": [
        {
          "name": "stdout",
          "output_type": "stream",
          "text": [
            "Downloading data from https://storage.googleapis.com/tensorflow/tf-keras-datasets/mnist.npz\n",
            "11493376/11490434 [==============================] - 0s 0us/step\n",
            "11501568/11490434 [==============================] - 0s 0us/step\n"
          ]
        }
      ],
      "source": [
        "(train_images, train_labels), (test_images, test_labels) = datasets.mnist.load_data()"
      ]
    },
    {
      "cell_type": "code",
      "execution_count": null,
      "metadata": {
        "colab": {
          "base_uri": "https://localhost:8080/"
        },
        "id": "Xp4Rq2wPmccr",
        "outputId": "5f3f781c-036c-4bef-f844-9f2c9b064a68"
      },
      "outputs": [
        {
          "name": "stdout",
          "output_type": "stream",
          "text": [
            "Input layer size: 784\n",
            "Hidden layer 1 size: 128\n",
            "Hidden layer 2 size: 128\n",
            "Ouput layer size: 10\n",
            "-------------------------------------\n",
            "Size of the training set: 50000\n",
            "Size of the validation set: 10000\n",
            "Size of the test set: 10000\n"
          ]
        }
      ],
      "source": [
        "size_input = train_images[0].shape[0] * train_images[0].shape[1]\n",
        "size_hidden = 128\n",
        "size_hidden_2 = 128\n",
        "size_output = 10\n",
        "learning_rate_hp = 1e-4\n",
        "number_of_train_examples = train_images.shape[0] - 10000\n",
        "number_of_validation_examples = 10000\n",
        "number_of_test_examples = test_images.shape[0]\n",
        "train_batch = 60\n",
        "test_batch = 10\n",
        "lamda = 0.7\n",
        "NUM_EPOCHS = 3000\n",
        "\n",
        "print(\"Input layer size:\", size_input)\n",
        "print(\"Hidden layer 1 size:\", size_hidden)\n",
        "print(\"Hidden layer 2 size:\", size_hidden_2)\n",
        "print(\"Ouput layer size:\", size_output)\n",
        "print(\"-------------------------------------\")\n",
        "print(\"Size of the training set:\", number_of_train_examples)\n",
        "print(\"Size of the validation set:\", number_of_validation_examples)\n",
        "print(\"Size of the test set:\", number_of_test_examples)"
      ]
    },
    {
      "cell_type": "code",
      "execution_count": null,
      "metadata": {
        "id": "pcqnCzYfmd9e"
      },
      "outputs": [],
      "source": [
        "X_train = train_images.reshape(train_images.shape[0], -1)[0:50000]\n",
        "X_val = train_images.reshape(train_images.shape[0], -1)[50000:60000]\n",
        "X_test = test_images.reshape(test_images.shape[0], -1)\n",
        "\n",
        "y_train = np.reshape(train_labels[0:50000], (number_of_train_examples, 1))\n",
        "y_val = np.reshape(train_labels[50000:60000], (number_of_validation_examples, 1))\n",
        "y_test = np.reshape(test_labels, (number_of_test_examples, 1))"
      ]
    },
    {
      "cell_type": "code",
      "execution_count": null,
      "metadata": {
        "id": "k1auyvgdokSG"
      },
      "outputs": [],
      "source": [
        " # Normalizing the images\n",
        "x_train = X_train / 255.0\n",
        "x_val = X_val / 255.0\n",
        "x_test = X_test / 255.0"
      ]
    },
    {
      "cell_type": "code",
      "execution_count": null,
      "metadata": {
        "id": "aG9ogK6gpiue"
      },
      "outputs": [],
      "source": [
        "# One hot encoding the labels\n",
        "def one_hot_encode(vec):\n",
        "  n = len(vec)\n",
        "  out = np.zeros((n, 10))\n",
        "  for i in range(n):\n",
        "    out[i, vec[i]] = 1\n",
        "  return out\n",
        "\n",
        "y_train = one_hot_encode(y_train)\n",
        "y_val = one_hot_encode(y_val)\n",
        "y_test = one_hot_encode(y_test)"
      ]
    },
    {
      "cell_type": "code",
      "execution_count": null,
      "metadata": {
        "id": "QDsF07NupvpT"
      },
      "outputs": [],
      "source": [
        "def compute_accuracy(mlp, X, y):\n",
        "  '''\n",
        "  This function does a forward pass of x, then checks if the indices\n",
        "  of the maximum value in the output equals the indices in the label \n",
        "  y. Then it sums over each prediction and calculates the accuracy.\n",
        "  '''\n",
        "  predictions = []\n",
        "  # for x, y in zip(X, y):\n",
        "  #   x = tf.reshape(x, (1, size_input))\n",
        "  #   output = mlp.forward(x)\n",
        "  #   pred = np.argmax(output)\n",
        "  #   predictions.append(pred == np.argmax(y))\n",
        "\n",
        "  output = mlp.forward(X)\n",
        "  pred = np.argmax(output, axis=1)\n",
        "  predictions.append(pred == np.argmax(y, axis=1))\n",
        "\n",
        "  return np.mean(predictions)"
      ]
    },
    {
      "cell_type": "code",
      "execution_count": null,
      "metadata": {
        "id": "thPS-op6yBh3"
      },
      "outputs": [],
      "source": [
        "def sigmoid(x, derivative = False):\n",
        "    if derivative:\n",
        "        return np.exp(-x) / ((np.exp(-x) + 1) ** 2)\n",
        "    else:\n",
        "        return 1 / (1 + np.exp(-x))"
      ]
    },
    {
      "cell_type": "code",
      "execution_count": null,
      "metadata": {
        "id": "hyt9_ueQp87P"
      },
      "outputs": [],
      "source": [
        "# Define class to build mlp model\n",
        "class MLP(object):\n",
        "  def __init__(self, size_input, size_hidden, size_hidden_2, size_output, device=None):\n",
        "    \"\"\"\n",
        "    size_input: int, size of input layer\n",
        "    size_hidden: int, size of hidden layer\n",
        "    size_output: int, size of output layer\n",
        "    device: str or None, either 'cpu' or 'gpu' or None. If None, the device to be used will be decided automatically during Eager Execution\n",
        "    \"\"\"\n",
        "    self.size_input, self.size_hidden, self.size_hidden_2, self.size_output, self.device =\\\n",
        "    size_input, size_hidden, size_hidden_2, size_output, device\n",
        "    \n",
        "    # Initialize weights between input layer and hidden layer\n",
        "    self.W1 = tf.Variable(tf.random.normal([self.size_input, self.size_hidden], stddev=0.1))\n",
        "    # Initialize biases for hidden layer\n",
        "    self.b1 = tf.Variable(tf.zeros([1, self.size_hidden]))\n",
        "    # Initialize weights between input layer and hidden layer\n",
        "    self.W2 = tf.Variable(tf.random.normal([self.size_hidden, self.size_hidden_2], stddev=0.1))\n",
        "    # Initialize biases for hidden layer\n",
        "    self.b2 = tf.Variable(tf.zeros([1, self.size_hidden_2]))\n",
        "    # Initialize weights between hidden layer and output layer\n",
        "    self.W3 = tf.Variable(tf.random.normal([self.size_hidden_2, self.size_output], stddev=0.1))\n",
        "    # Initialize biases for output layer\n",
        "    self.b3 = tf.Variable(tf.zeros([1, self.size_output]))\n",
        "    \n",
        "    # Define variables to be updated during backpropagation\n",
        "    self.variables = [self.W1, self.W2, self.W3, self.b1, self.b2, self.b3]\n",
        "    \n",
        "  def forward(self, X):\n",
        "    \"\"\"\n",
        "    forward pass\n",
        "    X: Tensor, inputs\n",
        "    \"\"\"\n",
        "    if self.device is not None:\n",
        "      with tf.device('gpu:0' if self.device=='gpu' else 'cpu'):\n",
        "        self.y = self.compute_output(X)\n",
        "    else:\n",
        "      self.y = self.compute_output(X)\n",
        "      \n",
        "    return self.y\n",
        "  \n",
        "  def loss(self, y_pred, y_true):\n",
        "    '''\n",
        "    y_pred - Tensor of shape (batch_size, size_output)\n",
        "    y_true - Tensor of shape (batch_size, size_output)\n",
        "    '''\n",
        "    y_true_tf = tf.cast(tf.reshape(y_true, (-1, self.size_output)), dtype=tf.float32)\n",
        "    y_pred_tf = tf.cast(y_pred, dtype=tf.float32)\n",
        "    #l2_rg = (lamda / (2.0 * number_of_train_examples)) * (np.sum(np.square(self.variables[0])) + np.sum(np.square(self.variables[1])) + np.sum(np.square(self.variables[2])))\n",
        "    #l1_rg = (lamda / number_of_train_examples) * (np.sum(self.variables[0]) + np.sum(self.variables[1]) + np.sum(self.variables[2]))\n",
        "    return tf.losses.categorical_crossentropy(y_true_tf, y_pred_tf)\n",
        "  \n",
        "  def backward(self, X_train, y_train):\n",
        "    \"\"\"\n",
        "    backward pass\n",
        "    \"\"\"\n",
        "    #print(self.variables)\n",
        "    optimizer = tf.keras.optimizers.Adam(learning_rate=learning_rate_hp)\n",
        "    with tf.GradientTape() as tape:\n",
        "      predicted = self.forward(X_train)\n",
        "      current_loss = self.loss(predicted, y_train)\n",
        "    grads = tape.gradient(current_loss, self.variables)\n",
        "    optimizer.apply_gradients(zip(grads, self.variables))\n",
        "        \n",
        "  def compute_output(self, X):\n",
        "    \"\"\"\n",
        "    Custom method to obtain output tensor during forward pass\n",
        "    \"\"\"\n",
        "    # Cast X to float32\n",
        "    X_tf = tf.cast(X, dtype=tf.float32)\n",
        "    #Remember to normalize your dataset before moving forward\n",
        "    # Compute values in hidden layer 1\n",
        "    what = tf.matmul(X_tf, self.W1) + self.b1\n",
        "    hhat = tf.nn.sigmoid(what)\n",
        "    # Compute values in hidden layer 2\n",
        "    what_2 = tf.matmul(hhat, self.W2) + self.b2\n",
        "    hhat_2 = tf.nn.sigmoid(what_2)\n",
        "    # Compute output\n",
        "    output = tf.matmul(hhat_2, self.W3) + self.b3\n",
        "    output = tf.nn.softmax(output)\n",
        "    #Now consider two things , First look at inbuild loss functions if they work with softmax or not and then change this\n",
        "    #Second add tf.Softmax(output) and then return this variable\n",
        "    return output"
      ]
    },
    {
      "cell_type": "code",
      "execution_count": null,
      "metadata": {
        "colab": {
          "base_uri": "https://localhost:8080/"
        },
        "id": "udrqw0OXqngH",
        "outputId": "d5ce6134-2eba-45b9-f2ca-7e4aa8970dab"
      },
      "outputs": [
        {
          "name": "stdout",
          "output_type": "stream",
          "text": [
            "Epoch:0 \n",
            "Average Error: 2.42351 \n",
            "Accuracy on training set:= 10.14% \n",
            "Accuracy on validation set:= 9.90%\n",
            "\n",
            "\n",
            "Epoch:100 \n",
            "Average Error: 1.89299078125 \n",
            "Accuracy on training set:= 65.13% \n",
            "Accuracy on validation set:= 66.52%\n",
            "\n",
            "\n",
            "Epoch:200 \n",
            "Average Error: 1.4741553125 \n",
            "Accuracy on training set:= 76.57% \n",
            "Accuracy on validation set:= 78.16%\n",
            "\n",
            "\n",
            "Epoch:300 \n",
            "Average Error: 1.138865234375 \n",
            "Accuracy on training set:= 81.93% \n",
            "Accuracy on validation set:= 83.03%\n",
            "\n",
            "\n",
            "Epoch:400 \n",
            "Average Error: 0.898561484375 \n",
            "Accuracy on training set:= 84.58% \n",
            "Accuracy on validation set:= 85.61%\n",
            "\n",
            "\n",
            "Epoch:500 \n",
            "Average Error: 0.730832734375 \n",
            "Accuracy on training set:= 85.91% \n",
            "Accuracy on validation set:= 86.89%\n",
            "\n",
            "\n",
            "Epoch:600 \n",
            "Average Error: 0.611648046875 \n",
            "Accuracy on training set:= 86.77% \n",
            "Accuracy on validation set:= 87.73%\n",
            "\n",
            "\n",
            "Epoch:700 \n",
            "Average Error: 0.5259401953125 \n",
            "Accuracy on training set:= 87.45% \n",
            "Accuracy on validation set:= 88.15%\n",
            "\n",
            "\n",
            "Epoch:800 \n",
            "Average Error: 0.4631641796875 \n",
            "Accuracy on training set:= 88.04% \n",
            "Accuracy on validation set:= 88.57%\n",
            "\n",
            "\n",
            "Epoch:900 \n",
            "Average Error: 0.4164964453125 \n",
            "Accuracy on training set:= 88.61% \n",
            "Accuracy on validation set:= 88.93%\n",
            "\n",
            "\n",
            "Epoch:1000 \n",
            "Average Error: 0.3814801953125 \n",
            "Accuracy on training set:= 89.10% \n",
            "Accuracy on validation set:= 89.42%\n",
            "\n",
            "\n",
            "Epoch:1100 \n",
            "Average Error: 0.354469140625 \n",
            "Accuracy on training set:= 89.51% \n",
            "Accuracy on validation set:= 89.78%\n",
            "\n",
            "\n",
            "Epoch:1200 \n",
            "Average Error: 0.3329315234375 \n",
            "Accuracy on training set:= 89.96% \n",
            "Accuracy on validation set:= 90.07%\n",
            "\n",
            "\n",
            "Epoch:1300 \n",
            "Average Error: 0.3153303125 \n",
            "Accuracy on training set:= 90.37% \n",
            "Accuracy on validation set:= 90.34%\n",
            "\n",
            "\n",
            "Epoch:1400 \n",
            "Average Error: 0.300565 \n",
            "Accuracy on training set:= 90.78% \n",
            "Accuracy on validation set:= 90.54%\n",
            "\n",
            "\n",
            "Epoch:1500 \n",
            "Average Error: 0.28776380859375 \n",
            "Accuracy on training set:= 91.05% \n",
            "Accuracy on validation set:= 90.87%\n",
            "\n",
            "\n",
            "Epoch:1600 \n",
            "Average Error: 0.27657119140625 \n",
            "Accuracy on training set:= 91.37% \n",
            "Accuracy on validation set:= 91.09%\n",
            "\n",
            "\n",
            "Epoch:1700 \n",
            "Average Error: 0.26677291015625 \n",
            "Accuracy on training set:= 91.66% \n",
            "Accuracy on validation set:= 91.22%\n",
            "\n",
            "\n",
            "Epoch:1800 \n",
            "Average Error: 0.257964375 \n",
            "Accuracy on training set:= 91.95% \n",
            "Accuracy on validation set:= 91.39%\n",
            "\n",
            "\n",
            "Epoch:1900 \n",
            "Average Error: 0.2500624609375 \n",
            "Accuracy on training set:= 92.17% \n",
            "Accuracy on validation set:= 91.44%\n",
            "\n",
            "\n",
            "Epoch:2000 \n",
            "Average Error: 0.242822578125 \n",
            "Accuracy on training set:= 92.37% \n",
            "Accuracy on validation set:= 91.63%\n",
            "\n",
            "\n",
            "Epoch:2100 \n",
            "Average Error: 0.23606107421875 \n",
            "Accuracy on training set:= 92.61% \n",
            "Accuracy on validation set:= 91.76%\n",
            "\n",
            "\n",
            "Epoch:2200 \n",
            "Average Error: 0.230018203125 \n",
            "Accuracy on training set:= 92.79% \n",
            "Accuracy on validation set:= 91.82%\n",
            "\n",
            "\n",
            "Epoch:2300 \n",
            "Average Error: 0.2243912890625 \n",
            "Accuracy on training set:= 92.96% \n",
            "Accuracy on validation set:= 91.88%\n",
            "\n",
            "\n",
            "Epoch:2400 \n",
            "Average Error: 0.2191512109375 \n",
            "Accuracy on training set:= 93.10% \n",
            "Accuracy on validation set:= 92.01%\n",
            "\n",
            "\n",
            "Epoch:2500 \n",
            "Average Error: 0.21444064453125 \n",
            "Accuracy on training set:= 93.30% \n",
            "Accuracy on validation set:= 92.13%\n",
            "\n",
            "\n",
            "Epoch:2600 \n",
            "Average Error: 0.2099471875 \n",
            "Accuracy on training set:= 93.46% \n",
            "Accuracy on validation set:= 92.15%\n",
            "\n",
            "\n",
            "Epoch:2700 \n",
            "Average Error: 0.20576109375 \n",
            "Accuracy on training set:= 93.60% \n",
            "Accuracy on validation set:= 92.16%\n",
            "\n",
            "\n",
            "Epoch:2800 \n",
            "Average Error: 0.2017796875 \n",
            "Accuracy on training set:= 93.75% \n",
            "Accuracy on validation set:= 92.29%\n",
            "\n",
            "\n",
            "Epoch:2900 \n",
            "Average Error: 0.19794716796875 \n",
            "Accuracy on training set:= 93.88% \n",
            "Accuracy on validation set:= 92.25%\n",
            "\n",
            "\n",
            "Epoch:3000 \n",
            "Average Error: 0.19438453125 \n",
            "Accuracy on training set:= 93.99% \n",
            "Accuracy on validation set:= 92.32%\n",
            "\n",
            "\n",
            "\n",
            "\n",
            "Accuracy on Test set: 91.43\n",
            "\n",
            "Total time taken (in seconds): 259.95\n"
          ]
        }
      ],
      "source": [
        "from tensorflow.python.ops.nn_impl import compute_average_loss\n",
        "# Initialize model using GPU\n",
        "mlp = MLP(size_input, size_hidden, size_hidden_2, size_output, device='gpu')\n",
        "error = []\n",
        "accuracy = []\n",
        "accuracy_val = []\n",
        "time_start = time.time()\n",
        "for epoch in range(NUM_EPOCHS + 1):\n",
        "  loss_total = tf.zeros([1,1], dtype=tf.float32)\n",
        "  lt = 0\n",
        "  # train_ds = tf.data.Dataset.from_tensor_slices((X_train, y_train)).batch(train_batch)\n",
        "\n",
        "  preds = mlp.forward(X_train)\n",
        "  loss_total = loss_total + mlp.loss(preds, y_train)\n",
        "  lt = lt + mlp.loss(preds, y_train)\n",
        "  gd = mlp.backward(X_train, y_train)\n",
        "  '''\n",
        "  This code is for batch gradient descent\n",
        "  '''\n",
        "  '''\n",
        "  mlp.vanillasgd(gd)\n",
        "  for inputs, outputs in train_ds: \n",
        "    preds = mlp.forward(inputs)\n",
        "    #print(inputs.shape, \" \", outputs.shape, \" \", preds.shape)\n",
        "    loss_total = loss_total + mlp.loss(preds, outputs)\n",
        "    lt = lt + mlp.loss(preds, outputs)\n",
        "    gd = mlp.backward(inputs, outputs)\n",
        "    #mlp.vanillasgd(gd)\n",
        "  '''\n",
        "  curr_error = np.sum(loss_total) / X_train.shape[0]\n",
        "  error.append(curr_error)\n",
        "  curr_accuracy = compute_accuracy(mlp, X_train, y_train) * 100\n",
        "  curr_accuracy_val = compute_accuracy(mlp, X_val, y_val) * 100\n",
        "  accuracy_val.append(curr_accuracy)\n",
        "  accuracy.append(curr_accuracy)\n",
        "  if(epoch % 100 == 0):\n",
        "    print('Epoch:{} \\nAverage Error: {} \\nAccuracy on training set:= {:.2f}% \\nAccuracy on validation set:= {:.2f}%\\n\\n'.format(epoch, curr_error, curr_accuracy, curr_accuracy_val))\n",
        "time_taken = time.time() - time_start\n",
        "\n",
        "print('\\n\\nAccuracy on Test set:', compute_accuracy(mlp, X_test, y_test) * 100)\n",
        "\n",
        "print('\\nTotal time taken (in seconds): {:.2f}'.format(time_taken))\n",
        "#For per epoch_time = Total_Time / Number_of_epochs"
      ]
    },
    {
      "cell_type": "code",
      "execution_count": null,
      "metadata": {
        "colab": {
          "base_uri": "https://localhost:8080/",
          "height": 317
        },
        "id": "w-dSuwDcw-KJ",
        "outputId": "38e3feda-e8b9-4a52-e732-cc32e76a070b"
      },
      "outputs": [
        {
          "name": "stdout",
          "output_type": "stream",
          "text": [
            "Predicted output:=  6\n",
            "Actual ouput:=  4\n"
          ]
        },
        {
          "data": {
            "text/plain": [
              "<matplotlib.image.AxesImage at 0x7f4f302f7750>"
            ]
          },
          "execution_count": 94,
          "metadata": {},
          "output_type": "execute_result"
        },
        {
          "data": {
            "image/png": "[encoded data removed]",
            "text/plain": [
              "<Figure size 432x288 with 1 Axes>"
            ]
          },
          "metadata": {},
          "output_type": "display_data"
        }
      ],
      "source": [
        "# Testing the model \n",
        "test_index = 300\n",
        "test_data = tf.reshape(X_test[test_index], (1, size_input))\n",
        "output = mlp.forward(test_data)\n",
        "pred = np.argmax(output, axis=1)\n",
        "print(\"Predicted output:= \", int(pred))\n",
        "print(\"Actual ouput:= \", test_labels[test_index])\n",
        "plt.imshow(test_images[test_index])"
      ]
    },
    {
      "cell_type": "code",
      "execution_count": null,
      "metadata": {
        "colab": {
          "base_uri": "https://localhost:8080/",
          "height": 298
        },
        "id": "8hng9NZKxA-f",
        "outputId": "e183a480-4106-4b65-da63-ca6f336b5ba6"
      },
      "outputs": [
        {
          "data": {
            "text/plain": [
              "[<matplotlib.lines.Line2D at 0x7f4f30314710>]"
            ]
          },
          "execution_count": 95,
          "metadata": {},
          "output_type": "execute_result"
        },
        {
          "data": {
            "image/png": "[encoded data removed]",
            "text/plain": [
              "<Figure size 432x288 with 1 Axes>"
            ]
          },
          "metadata": {},
          "output_type": "display_data"
        }
      ],
      "source": [
        "# Plotting Crossentropy error\n",
        "plt.title(\"Error on training set\")\n",
        "plt.plot([i for i in range(NUM_EPOCHS + 1)], error)"
      ]
    },
    {
      "cell_type": "code",
      "execution_count": null,
      "metadata": {
        "colab": {
          "base_uri": "https://localhost:8080/",
          "height": 298
        },
        "id": "iu8Ql074xLTK",
        "outputId": "35dae69b-5a98-453f-d4e0-71670cc51a47"
      },
      "outputs": [
        {
          "data": {
            "text/plain": [
              "[<matplotlib.lines.Line2D at 0x7f4f3066d650>]"
            ]
          },
          "execution_count": 96,
          "metadata": {},
          "output_type": "execute_result"
        },
        {
          "data": {
            "image/png": "[encoded data removed]",
            "text/plain": [
              "<Figure size 432x288 with 1 Axes>"
            ]
          },
          "metadata": {},
          "output_type": "display_data"
        }
      ],
      "source": [
        "# Plotting accuracy\n",
        "plt.title(\"Accuracy on training set\")\n",
        "plt.plot([i for i in range(NUM_EPOCHS + 1)], accuracy)"
      ]
    },
    {
      "cell_type": "code",
      "execution_count": null,
      "metadata": {
        "colab": {
          "base_uri": "https://localhost:8080/",
          "height": 298
        },
        "id": "fvU5oaUNxQVK",
        "outputId": "b2d80e41-441e-4014-b07d-571eba9ab2a2"
      },
      "outputs": [
        {
          "data": {
            "text/plain": [
              "[<matplotlib.lines.Line2D at 0x7f4eba192dd0>]"
            ]
          },
          "execution_count": 97,
          "metadata": {},
          "output_type": "execute_result"
        },
        {
          "data": {
            "image/png": "[encoded data removed]",
            "text/plain": [
              "<Figure size 432x288 with 1 Axes>"
            ]
          },
          "metadata": {},
          "output_type": "display_data"
        }
      ],
      "source": [
        "# Plotting validation accuracy\n",
        "plt.title(\"Accuracy on validation set\")\n",
        "plt.plot([i for i in range(NUM_EPOCHS + 1)], accuracy_val)"
      ]
    },
    {
      "cell_type": "code",
      "execution_count": null,
      "metadata": {
        "id": "IG7XdzKCYboW"
      },
      "outputs": [],
      "source": [
        "# Define class to build mlp model\n",
        "class MLP(object):\n",
        "  def __init__(self, size_input, size_hidden, size_hidden_2, size_output, device=None):\n",
        "    \"\"\"\n",
        "    size_input: int, size of input layer\n",
        "    size_hidden: int, size of hidden layer\n",
        "    size_output: int, size of output layer\n",
        "    device: str or None, either 'cpu' or 'gpu' or None. If None, the device to be used will be decided automatically during Eager Execution\n",
        "    \"\"\"\n",
        "    self.size_input, self.size_hidden, self.size_hidden_2, self.size_output, self.device =\\\n",
        "    size_input, size_hidden, size_hidden_2, size_output, device\n",
        "    \n",
        "    # Initialize weights between input layer and hidden layer\n",
        "    self.W1 = tf.Variable(tf.random.normal([self.size_input, self.size_hidden], stddev=0.1))\n",
        "    # Initialize biases for hidden layer\n",
        "    self.b1 = tf.Variable(tf.zeros([1, self.size_hidden]))\n",
        "    # Initialize weights between input layer and hidden layer\n",
        "    self.W2 = tf.Variable(tf.random.normal([self.size_hidden, self.size_hidden_2], stddev=0.1))\n",
        "    # Initialize biases for hidden layer\n",
        "    self.b2 = tf.Variable(tf.zeros([1, self.size_hidden_2]))\n",
        "    # Initialize weights between hidden layer and output layer\n",
        "    self.W3 = tf.Variable(tf.random.normal([self.size_hidden_2, self.size_output], stddev=0.1))\n",
        "    # Initialize biases for output layer\n",
        "    self.b3 = tf.Variable(tf.zeros([1, self.size_output]))\n",
        "    \n",
        "    # Define variables to be updated during backpropagation\n",
        "    self.variables = [self.W1, self.W2, self.W3, self.b1, self.b2, self.b3]\n",
        "    \n",
        "  def forward(self, X):\n",
        "    \"\"\"\n",
        "    forward pass\n",
        "    X: Tensor, inputs\n",
        "    \"\"\"\n",
        "    if self.device is not None:\n",
        "      with tf.device('gpu:0' if self.device=='gpu' else 'cpu'):\n",
        "        self.y = self.compute_output(X)\n",
        "    else:\n",
        "      self.y = self.compute_output(X)\n",
        "      \n",
        "    return self.y\n",
        "  \n",
        "  def loss(self, y_pred, y_true):\n",
        "    '''\n",
        "    y_pred - Tensor of shape (batch_size, size_output)\n",
        "    y_true - Tensor of shape (batch_size, size_output)\n",
        "    '''\n",
        "    y_true_tf = tf.cast(tf.reshape(y_true, (-1, self.size_output)), dtype=tf.float32)\n",
        "    y_pred_tf = tf.cast(y_pred, dtype=tf.float32)\n",
        "    #l2_rg = (lamda / (2.0 * number_of_train_examples)) * (np.sum(np.square(self.variables[0])) + np.sum(np.square(self.variables[1])) + np.sum(np.square(self.variables[2])))\n",
        "    #l1_rg = (lamda / number_of_train_examples) * (np.sum(self.variables[0]) + np.sum(self.variables[1]) + np.sum(self.variables[2]))\n",
        "    return tf.losses.categorical_crossentropy(y_true_tf, y_pred_tf)\n",
        "  \n",
        "  def backward(self, X_train, y_train):\n",
        "    \"\"\"\n",
        "    backward pass\n",
        "    \"\"\"\n",
        "    #print(self.variables)\n",
        "    optimizer = tf.keras.optimizers.RMSprop(learning_rate=learning_rate_hp)\n",
        "    with tf.GradientTape() as tape:\n",
        "      predicted = self.forward(X_train)\n",
        "      current_loss = self.loss(predicted, y_train)\n",
        "    grads = tape.gradient(current_loss, self.variables)\n",
        "    optimizer.apply_gradients(zip(grads, self.variables))\n",
        "        \n",
        "  def compute_output(self, X):\n",
        "    \"\"\"\n",
        "    Custom method to obtain output tensor during forward pass\n",
        "    \"\"\"\n",
        "    # Cast X to float32\n",
        "    X_tf = tf.cast(X, dtype=tf.float32)\n",
        "    #Remember to normalize your dataset before moving forward\n",
        "    # Compute values in hidden layer 1\n",
        "    what = tf.matmul(X_tf, self.W1) + self.b1\n",
        "    hhat = tf.nn.sigmoid(what)\n",
        "    # Compute values in hidden layer 2\n",
        "    what_2 = tf.matmul(hhat, self.W2) + self.b2\n",
        "    hhat_2 = tf.nn.sigmoid(what_2)\n",
        "    # Compute output\n",
        "    output = tf.matmul(hhat_2, self.W3) + self.b3\n",
        "    output = tf.nn.softmax(output)\n",
        "    #Now consider two things , First look at inbuild loss functions if they work with softmax or not and then change this\n",
        "    #Second add tf.Softmax(output) and then return this variable\n",
        "    return output"
      ]
    },
    {
      "cell_type": "code",
      "execution_count": null,
      "metadata": {
        "colab": {
          "base_uri": "https://localhost:8080/"
        },
        "id": "G5xgP_gVYfrT",
        "outputId": "5d7a4481-813d-402c-e97a-61cb163a8189"
      },
      "outputs": [
        {
          "name": "stdout",
          "output_type": "stream",
          "text": [
            "Epoch:0 \n",
            "Average Error: 2.38283984375 \n",
            "Accuracy on training set:= 11.92% \n",
            "Accuracy on validation set:= 12.44%\n",
            "\n",
            "\n",
            "Epoch:100 \n",
            "Average Error: 1.105422109375 \n",
            "Accuracy on training set:= 82.65% \n",
            "Accuracy on validation set:= 84.55%\n",
            "\n",
            "\n",
            "Epoch:200 \n",
            "Average Error: 0.561581171875 \n",
            "Accuracy on training set:= 88.02% \n",
            "Accuracy on validation set:= 89.05%\n",
            "\n",
            "\n",
            "Epoch:300 \n",
            "Average Error: 0.373303046875 \n",
            "Accuracy on training set:= 89.72% \n",
            "Accuracy on validation set:= 90.13%\n",
            "\n",
            "\n",
            "Epoch:400 \n",
            "Average Error: 0.3030035546875 \n",
            "Accuracy on training set:= 90.92% \n",
            "Accuracy on validation set:= 90.91%\n",
            "\n",
            "\n",
            "Epoch:500 \n",
            "Average Error: 0.27041314453125 \n",
            "Accuracy on training set:= 91.60% \n",
            "Accuracy on validation set:= 91.50%\n",
            "\n",
            "\n",
            "Epoch:600 \n",
            "Average Error: 0.250508203125 \n",
            "Accuracy on training set:= 92.18% \n",
            "Accuracy on validation set:= 91.84%\n",
            "\n",
            "\n",
            "Epoch:700 \n",
            "Average Error: 0.23602607421875 \n",
            "Accuracy on training set:= 92.66% \n",
            "Accuracy on validation set:= 92.06%\n",
            "\n",
            "\n",
            "Epoch:800 \n",
            "Average Error: 0.22491 \n",
            "Accuracy on training set:= 93.07% \n",
            "Accuracy on validation set:= 92.11%\n",
            "\n",
            "\n",
            "Epoch:900 \n",
            "Average Error: 0.21582955078125 \n",
            "Accuracy on training set:= 93.36% \n",
            "Accuracy on validation set:= 92.15%\n",
            "\n",
            "\n",
            "Epoch:1000 \n",
            "Average Error: 0.20782123046875 \n",
            "Accuracy on training set:= 93.57% \n",
            "Accuracy on validation set:= 92.36%\n",
            "\n",
            "\n",
            "Epoch:1100 \n",
            "Average Error: 0.20103033203125 \n",
            "Accuracy on training set:= 93.79% \n",
            "Accuracy on validation set:= 92.44%\n",
            "\n",
            "\n",
            "Epoch:1200 \n",
            "Average Error: 0.19508060546875 \n",
            "Accuracy on training set:= 93.97% \n",
            "Accuracy on validation set:= 92.55%\n",
            "\n",
            "\n",
            "Epoch:1300 \n",
            "Average Error: 0.1897191796875 \n",
            "Accuracy on training set:= 94.13% \n",
            "Accuracy on validation set:= 92.57%\n",
            "\n",
            "\n",
            "Epoch:1400 \n",
            "Average Error: 0.18479408203125 \n",
            "Accuracy on training set:= 94.30% \n",
            "Accuracy on validation set:= 92.64%\n",
            "\n",
            "\n",
            "Epoch:1500 \n",
            "Average Error: 0.17999810546875 \n",
            "Accuracy on training set:= 94.44% \n",
            "Accuracy on validation set:= 92.76%\n",
            "\n",
            "\n",
            "Epoch:1600 \n",
            "Average Error: 0.1756803515625 \n",
            "Accuracy on training set:= 94.57% \n",
            "Accuracy on validation set:= 92.83%\n",
            "\n",
            "\n",
            "Epoch:1700 \n",
            "Average Error: 0.1715925 \n",
            "Accuracy on training set:= 94.69% \n",
            "Accuracy on validation set:= 92.86%\n",
            "\n",
            "\n",
            "Epoch:1800 \n",
            "Average Error: 0.167560859375 \n",
            "Accuracy on training set:= 94.82% \n",
            "Accuracy on validation set:= 92.87%\n",
            "\n",
            "\n",
            "Epoch:1900 \n",
            "Average Error: 0.163731240234375 \n",
            "Accuracy on training set:= 94.96% \n",
            "Accuracy on validation set:= 92.91%\n",
            "\n",
            "\n",
            "Epoch:2000 \n",
            "Average Error: 0.159980244140625 \n",
            "Accuracy on training set:= 95.07% \n",
            "Accuracy on validation set:= 92.97%\n",
            "\n",
            "\n",
            "Epoch:2100 \n",
            "Average Error: 0.156483349609375 \n",
            "Accuracy on training set:= 95.19% \n",
            "Accuracy on validation set:= 92.97%\n",
            "\n",
            "\n",
            "Epoch:2200 \n",
            "Average Error: 0.1530740625 \n",
            "Accuracy on training set:= 95.29% \n",
            "Accuracy on validation set:= 92.98%\n",
            "\n",
            "\n",
            "Epoch:2300 \n",
            "Average Error: 0.149624765625 \n",
            "Accuracy on training set:= 95.42% \n",
            "Accuracy on validation set:= 93.09%\n",
            "\n",
            "\n",
            "Epoch:2400 \n",
            "Average Error: 0.146543359375 \n",
            "Accuracy on training set:= 95.55% \n",
            "Accuracy on validation set:= 93.12%\n",
            "\n",
            "\n",
            "Epoch:2500 \n",
            "Average Error: 0.143486796875 \n",
            "Accuracy on training set:= 95.62% \n",
            "Accuracy on validation set:= 93.21%\n",
            "\n",
            "\n",
            "Epoch:2600 \n",
            "Average Error: 0.140518408203125 \n",
            "Accuracy on training set:= 95.71% \n",
            "Accuracy on validation set:= 93.24%\n",
            "\n",
            "\n",
            "Epoch:2700 \n",
            "Average Error: 0.137541181640625 \n",
            "Accuracy on training set:= 95.79% \n",
            "Accuracy on validation set:= 93.26%\n",
            "\n",
            "\n",
            "Epoch:2800 \n",
            "Average Error: 0.1347471484375 \n",
            "Accuracy on training set:= 95.90% \n",
            "Accuracy on validation set:= 93.29%\n",
            "\n",
            "\n",
            "Epoch:2900 \n",
            "Average Error: 0.131890361328125 \n",
            "Accuracy on training set:= 95.98% \n",
            "Accuracy on validation set:= 93.36%\n",
            "\n",
            "\n",
            "Epoch:3000 \n",
            "Average Error: 0.128925751953125 \n",
            "Accuracy on training set:= 96.14% \n",
            "Accuracy on validation set:= 93.39%\n",
            "\n",
            "\n",
            "\n",
            "\n",
            "Accuracy on Test set: 93.11\n",
            "\n",
            "Total time taken (in seconds): 258.95\n"
          ]
        }
      ],
      "source": [
        "from tensorflow.python.ops.nn_impl import compute_average_loss\n",
        "# Initialize model using GPU\n",
        "mlp = MLP(size_input, size_hidden, size_hidden_2, size_output, device='gpu')\n",
        "error = []\n",
        "accuracy = []\n",
        "accuracy_val = []\n",
        "time_start = time.time()\n",
        "for epoch in range(NUM_EPOCHS + 1):\n",
        "  loss_total = tf.zeros([1,1], dtype=tf.float32)\n",
        "  lt = 0\n",
        "  # train_ds = tf.data.Dataset.from_tensor_slices((X_train, y_train)).batch(train_batch)\n",
        "\n",
        "  preds = mlp.forward(X_train)\n",
        "  loss_total = loss_total + mlp.loss(preds, y_train)\n",
        "  lt = lt + mlp.loss(preds, y_train)\n",
        "  gd = mlp.backward(X_train, y_train)\n",
        "  '''\n",
        "  This code is for batch gradient descent\n",
        "  '''\n",
        "  '''\n",
        "  mlp.vanillasgd(gd)\n",
        "  for inputs, outputs in train_ds: \n",
        "    preds = mlp.forward(inputs)\n",
        "    #print(inputs.shape, \" \", outputs.shape, \" \", preds.shape)\n",
        "    loss_total = loss_total + mlp.loss(preds, outputs)\n",
        "    lt = lt + mlp.loss(preds, outputs)\n",
        "    gd = mlp.backward(inputs, outputs)\n",
        "    #mlp.vanillasgd(gd)\n",
        "  '''\n",
        "  curr_error = np.sum(loss_total) / X_train.shape[0]\n",
        "  error.append(curr_error)\n",
        "  curr_accuracy = compute_accuracy(mlp, X_train, y_train) * 100\n",
        "  curr_accuracy_val = compute_accuracy(mlp, X_val, y_val) * 100\n",
        "  accuracy_val.append(curr_accuracy)\n",
        "  accuracy.append(curr_accuracy)\n",
        "  if(epoch % 100 == 0):\n",
        "    print('Epoch:{} \\nAverage Error: {} \\nAccuracy on training set:= {:.2f}% \\nAccuracy on validation set:= {:.2f}%\\n\\n'.format(epoch, curr_error, curr_accuracy, curr_accuracy_val))\n",
        "time_taken = time.time() - time_start\n",
        "\n",
        "print('\\n\\nAccuracy on Test set:', compute_accuracy(mlp, X_test, y_test) * 100)\n",
        "\n",
        "print('\\nTotal time taken (in seconds): {:.2f}'.format(time_taken))\n",
        "#For per epoch_time = Total_Time / Number_of_epochs"
      ]
    },
    {
      "cell_type": "code",
      "execution_count": null,
      "metadata": {
        "colab": {
          "base_uri": "https://localhost:8080/",
          "height": 317
        },
        "id": "l20XxVO-YhHU",
        "outputId": "455d7efa-0209-4aef-ba5f-1fcbf4fcd78d"
      },
      "outputs": [
        {
          "name": "stdout",
          "output_type": "stream",
          "text": [
            "Predicted output:=  4\n",
            "Actual ouput:=  4\n"
          ]
        },
        {
          "data": {
            "text/plain": [
              "<matplotlib.image.AxesImage at 0x7f4eb9cf1d10>"
            ]
          },
          "execution_count": 100,
          "metadata": {},
          "output_type": "execute_result"
        },
        {
          "data": {
            "image/png": "[encoded data removed]",
            "text/plain": [
              "<Figure size 432x288 with 1 Axes>"
            ]
          },
          "metadata": {},
          "output_type": "display_data"
        }
      ],
      "source": [
        "# Testing the model \n",
        "test_index = 300\n",
        "test_data = tf.reshape(X_test[test_index], (1, size_input))\n",
        "output = mlp.forward(test_data)\n",
        "pred = np.argmax(output, axis=1)\n",
        "print(\"Predicted output:= \", int(pred))\n",
        "print(\"Actual ouput:= \", test_labels[test_index])\n",
        "plt.imshow(test_images[test_index])"
      ]
    },
    {
      "cell_type": "code",
      "execution_count": null,
      "metadata": {
        "colab": {
          "base_uri": "https://localhost:8080/",
          "height": 298
        },
        "id": "HY9ZZnddYkCJ",
        "outputId": "e4395ef4-6127-4461-911f-3c039733d32d"
      },
      "outputs": [
        {
          "data": {
            "text/plain": [
              "[<matplotlib.lines.Line2D at 0x7f4eb9cde1d0>]"
            ]
          },
          "execution_count": 101,
          "metadata": {},
          "output_type": "execute_result"
        },
        {
          "data": {
            "image/png": "[encoded data removed]",
            "text/plain": [
              "<Figure size 432x288 with 1 Axes>"
            ]
          },
          "metadata": {},
          "output_type": "display_data"
        }
      ],
      "source": [
        "# Plotting Crossentropy error\n",
        "plt.title(\"Error on training set\")\n",
        "plt.plot([i for i in range(NUM_EPOCHS + 1)], error)"
      ]
    },
    {
      "cell_type": "code",
      "execution_count": null,
      "metadata": {
        "colab": {
          "base_uri": "https://localhost:8080/",
          "height": 298
        },
        "id": "IiyPAVn2Yj-Z",
        "outputId": "d89c9375-8f34-4731-a8b2-e380b7845768"
      },
      "outputs": [
        {
          "data": {
            "text/plain": [
              "[<matplotlib.lines.Line2D at 0x7f4eb9c38cd0>]"
            ]
          },
          "execution_count": 102,
          "metadata": {},
          "output_type": "execute_result"
        },
        {
          "data": {
            "image/png": "[encoded data removed]",
            "text/plain": [
              "<Figure size 432x288 with 1 Axes>"
            ]
          },
          "metadata": {},
          "output_type": "display_data"
        }
      ],
      "source": [
        "# Plotting accuracy\n",
        "plt.title(\"Accuracy on training set\")\n",
        "plt.plot([i for i in range(NUM_EPOCHS + 1)], accuracy)"
      ]
    },
    {
      "cell_type": "code",
      "execution_count": null,
      "metadata": {
        "colab": {
          "base_uri": "https://localhost:8080/",
          "height": 298
        },
        "id": "fFDfjQJGYj6c",
        "outputId": "9a3a88f3-b83d-47f7-8e02-db1944d4fc9f"
      },
      "outputs": [
        {
          "data": {
            "text/plain": [
              "[<matplotlib.lines.Line2D at 0x7f4eb9c1fc90>]"
            ]
          },
          "execution_count": 103,
          "metadata": {},
          "output_type": "execute_result"
        },
        {
          "data": {
            "image/png": "[encoded data removed]",
            "text/plain": [
              "<Figure size 432x288 with 1 Axes>"
            ]
          },
          "metadata": {},
          "output_type": "display_data"
        }
      ],
      "source": [
        "# Plotting validation accuracy\n",
        "plt.title(\"Accuracy on validation set\")\n",
        "plt.plot([i for i in range(NUM_EPOCHS + 1)], accuracy_val)"
      ]
    },
    {
      "cell_type": "code",
      "execution_count": null,
      "metadata": {
        "id": "ViXMkiXeY6Kk"
      },
      "outputs": [],
      "source": [
        "# Define class to build mlp model\n",
        "class MLP(object):\n",
        "  def __init__(self, size_input, size_hidden, size_hidden_2, size_output, device=None):\n",
        "    \"\"\"\n",
        "    size_input: int, size of input layer\n",
        "    size_hidden: int, size of hidden layer\n",
        "    size_output: int, size of output layer\n",
        "    device: str or None, either 'cpu' or 'gpu' or None. If None, the device to be used will be decided automatically during Eager Execution\n",
        "    \"\"\"\n",
        "    self.size_input, self.size_hidden, self.size_hidden_2, self.size_output, self.device =\\\n",
        "    size_input, size_hidden, size_hidden_2, size_output, device\n",
        "    \n",
        "    # Initialize weights between input layer and hidden layer\n",
        "    self.W1 = tf.Variable(tf.random.normal([self.size_input, self.size_hidden], stddev=0.1))\n",
        "    # Initialize biases for hidden layer\n",
        "    self.b1 = tf.Variable(tf.zeros([1, self.size_hidden]))\n",
        "    # Initialize weights between input layer and hidden layer\n",
        "    self.W2 = tf.Variable(tf.random.normal([self.size_hidden, self.size_hidden_2], stddev=0.1))\n",
        "    # Initialize biases for hidden layer\n",
        "    self.b2 = tf.Variable(tf.zeros([1, self.size_hidden_2]))\n",
        "    # Initialize weights between hidden layer and output layer\n",
        "    self.W3 = tf.Variable(tf.random.normal([self.size_hidden_2, self.size_output], stddev=0.1))\n",
        "    # Initialize biases for output layer\n",
        "    self.b3 = tf.Variable(tf.zeros([1, self.size_output]))\n",
        "    \n",
        "    # Define variables to be updated during backpropagation\n",
        "    self.variables = [self.W1, self.W2, self.W3, self.b1, self.b2, self.b3]\n",
        "    \n",
        "  def forward(self, X):\n",
        "    \"\"\"\n",
        "    forward pass\n",
        "    X: Tensor, inputs\n",
        "    \"\"\"\n",
        "    if self.device is not None:\n",
        "      with tf.device('gpu:0' if self.device=='gpu' else 'cpu'):\n",
        "        self.y = self.compute_output(X)\n",
        "    else:\n",
        "      self.y = self.compute_output(X)\n",
        "      \n",
        "    return self.y\n",
        "  \n",
        "  def loss(self, y_pred, y_true):\n",
        "    '''\n",
        "    y_pred - Tensor of shape (batch_size, size_output)\n",
        "    y_true - Tensor of shape (batch_size, size_output)\n",
        "    '''\n",
        "    y_true_tf = tf.cast(tf.reshape(y_true, (-1, self.size_output)), dtype=tf.float32)\n",
        "    y_pred_tf = tf.cast(y_pred, dtype=tf.float32)\n",
        "    #l2_rg = (lamda / (2.0 * number_of_train_examples)) * (np.sum(np.square(self.variables[0])) + np.sum(np.square(self.variables[1])) + np.sum(np.square(self.variables[2])))\n",
        "    #l1_rg = (lamda / number_of_train_examples) * (np.sum(self.variables[0]) + np.sum(self.variables[1]) + np.sum(self.variables[2]))\n",
        "    return tf.losses.categorical_crossentropy(y_true_tf, y_pred_tf)\n",
        "  \n",
        "  def backward(self, X_train, y_train):\n",
        "    \"\"\"\n",
        "    backward pass\n",
        "    \"\"\"\n",
        "    #print(self.variables)\n",
        "    optimizer = tf.keras.optimizers.SGD(learning_rate=learning_rate_hp)\n",
        "    with tf.GradientTape() as tape:\n",
        "      predicted = self.forward(X_train)\n",
        "      current_loss = self.loss(predicted, y_train)\n",
        "    grads = tape.gradient(current_loss, self.variables)\n",
        "    optimizer.apply_gradients(zip(grads, self.variables))\n",
        "        \n",
        "  def compute_output(self, X):\n",
        "    \"\"\"\n",
        "    Custom method to obtain output tensor during forward pass\n",
        "    \"\"\"\n",
        "    # Cast X to float32\n",
        "    X_tf = tf.cast(X, dtype=tf.float32)\n",
        "    #Remember to normalize your dataset before moving forward\n",
        "    # Compute values in hidden layer 1\n",
        "    what = tf.matmul(X_tf, self.W1) + self.b1\n",
        "    hhat = tf.nn.sigmoid(what)\n",
        "    # Compute values in hidden layer 2\n",
        "    what_2 = tf.matmul(hhat, self.W2) + self.b2\n",
        "    hhat_2 = tf.nn.sigmoid(what_2)\n",
        "    # Compute output\n",
        "    output = tf.matmul(hhat_2, self.W3) + self.b3\n",
        "    output = tf.nn.softmax(output)\n",
        "    #Now consider two things , First look at inbuild loss functions if they work with softmax or not and then change this\n",
        "    #Second add tf.Softmax(output) and then return this variable\n",
        "    return output"
      ]
    },
    {
      "cell_type": "code",
      "execution_count": null,
      "metadata": {
        "colab": {
          "base_uri": "https://localhost:8080/"
        },
        "id": "CmVw6i9FY6Kl",
        "outputId": "588a4de9-a523-431f-8a63-c2eb0e6d6816"
      },
      "outputs": [
        {
          "name": "stdout",
          "output_type": "stream",
          "text": [
            "Epoch:0 \n",
            "Average Error: 2.34765 \n",
            "Accuracy on training set:= 9.72% \n",
            "Accuracy on validation set:= 9.83%\n",
            "\n",
            "\n",
            "Epoch:100 \n",
            "Average Error: 0.7705184375 \n",
            "Accuracy on training set:= 68.20% \n",
            "Accuracy on validation set:= 69.67%\n",
            "\n",
            "\n",
            "Epoch:200 \n",
            "Average Error: 0.84165890625 \n",
            "Accuracy on training set:= 72.85% \n",
            "Accuracy on validation set:= 74.77%\n",
            "\n",
            "\n",
            "Epoch:300 \n",
            "Average Error: 1.40567046875 \n",
            "Accuracy on training set:= 58.80% \n",
            "Accuracy on validation set:= 60.26%\n",
            "\n",
            "\n",
            "Epoch:400 \n",
            "Average Error: 0.24594103515625 \n",
            "Accuracy on training set:= 89.39% \n",
            "Accuracy on validation set:= 89.74%\n",
            "\n",
            "\n",
            "Epoch:500 \n",
            "Average Error: 0.159892724609375 \n",
            "Accuracy on training set:= 95.61% \n",
            "Accuracy on validation set:= 94.88%\n",
            "\n",
            "\n",
            "Epoch:600 \n",
            "Average Error: 0.11837587890625 \n",
            "Accuracy on training set:= 96.70% \n",
            "Accuracy on validation set:= 95.46%\n",
            "\n",
            "\n",
            "Epoch:700 \n",
            "Average Error: 0.10834263671875 \n",
            "Accuracy on training set:= 96.99% \n",
            "Accuracy on validation set:= 95.63%\n",
            "\n",
            "\n",
            "Epoch:800 \n",
            "Average Error: 0.08643205078125 \n",
            "Accuracy on training set:= 97.60% \n",
            "Accuracy on validation set:= 95.80%\n",
            "\n",
            "\n",
            "Epoch:900 \n",
            "Average Error: 0.0738363623046875 \n",
            "Accuracy on training set:= 98.07% \n",
            "Accuracy on validation set:= 95.96%\n",
            "\n",
            "\n",
            "Epoch:1000 \n",
            "Average Error: 0.065252666015625 \n",
            "Accuracy on training set:= 98.31% \n",
            "Accuracy on validation set:= 96.02%\n",
            "\n",
            "\n",
            "Epoch:1100 \n",
            "Average Error: 0.05450798828125 \n",
            "Accuracy on training set:= 98.59% \n",
            "Accuracy on validation set:= 96.09%\n",
            "\n",
            "\n",
            "Epoch:1200 \n",
            "Average Error: 0.0497740576171875 \n",
            "Accuracy on training set:= 98.75% \n",
            "Accuracy on validation set:= 96.03%\n",
            "\n",
            "\n",
            "Epoch:1300 \n",
            "Average Error: 0.0450656494140625 \n",
            "Accuracy on training set:= 98.84% \n",
            "Accuracy on validation set:= 96.11%\n",
            "\n",
            "\n",
            "Epoch:1400 \n",
            "Average Error: 0.041125234375 \n",
            "Accuracy on training set:= 98.94% \n",
            "Accuracy on validation set:= 96.08%\n",
            "\n",
            "\n",
            "Epoch:1500 \n",
            "Average Error: 0.03883355224609375 \n",
            "Accuracy on training set:= 99.01% \n",
            "Accuracy on validation set:= 95.99%\n",
            "\n",
            "\n",
            "Epoch:1600 \n",
            "Average Error: 0.03926988037109375 \n",
            "Accuracy on training set:= 98.98% \n",
            "Accuracy on validation set:= 96.14%\n",
            "\n",
            "\n",
            "Epoch:1700 \n",
            "Average Error: 0.03652707763671875 \n",
            "Accuracy on training set:= 99.06% \n",
            "Accuracy on validation set:= 96.06%\n",
            "\n",
            "\n",
            "Epoch:1800 \n",
            "Average Error: 0.03525863525390625 \n",
            "Accuracy on training set:= 99.07% \n",
            "Accuracy on validation set:= 96.26%\n",
            "\n",
            "\n",
            "Epoch:1900 \n",
            "Average Error: 0.03346138671875 \n",
            "Accuracy on training set:= 99.13% \n",
            "Accuracy on validation set:= 96.21%\n",
            "\n",
            "\n",
            "Epoch:2000 \n",
            "Average Error: 0.034103740234375 \n",
            "Accuracy on training set:= 99.11% \n",
            "Accuracy on validation set:= 96.19%\n",
            "\n",
            "\n",
            "Epoch:2100 \n",
            "Average Error: 0.03489554443359375 \n",
            "Accuracy on training set:= 99.06% \n",
            "Accuracy on validation set:= 96.15%\n",
            "\n",
            "\n",
            "Epoch:2200 \n",
            "Average Error: 0.03093119873046875 \n",
            "Accuracy on training set:= 99.21% \n",
            "Accuracy on validation set:= 96.10%\n",
            "\n",
            "\n",
            "Epoch:2300 \n",
            "Average Error: 0.03016892822265625 \n",
            "Accuracy on training set:= 99.22% \n",
            "Accuracy on validation set:= 96.01%\n",
            "\n",
            "\n",
            "Epoch:2400 \n",
            "Average Error: 0.0307296875 \n",
            "Accuracy on training set:= 99.22% \n",
            "Accuracy on validation set:= 95.99%\n",
            "\n",
            "\n",
            "Epoch:2500 \n",
            "Average Error: 0.028983740234375 \n",
            "Accuracy on training set:= 99.25% \n",
            "Accuracy on validation set:= 95.99%\n",
            "\n",
            "\n",
            "Epoch:2600 \n",
            "Average Error: 0.02837617431640625 \n",
            "Accuracy on training set:= 99.26% \n",
            "Accuracy on validation set:= 95.98%\n",
            "\n",
            "\n",
            "Epoch:2700 \n",
            "Average Error: 0.02812018798828125 \n",
            "Accuracy on training set:= 99.27% \n",
            "Accuracy on validation set:= 96.00%\n",
            "\n",
            "\n",
            "Epoch:2800 \n",
            "Average Error: 0.02772161376953125 \n",
            "Accuracy on training set:= 99.20% \n",
            "Accuracy on validation set:= 96.00%\n",
            "\n",
            "\n",
            "Epoch:2900 \n",
            "Average Error: 0.02676862548828125 \n",
            "Accuracy on training set:= 99.30% \n",
            "Accuracy on validation set:= 96.01%\n",
            "\n",
            "\n",
            "Epoch:3000 \n",
            "Average Error: 0.02628188232421875 \n",
            "Accuracy on training set:= 99.30% \n",
            "Accuracy on validation set:= 95.95%\n",
            "\n",
            "\n",
            "\n",
            "\n",
            "Accuracy on Test set: 95.74000000000001\n",
            "\n",
            "Total time taken (in seconds): 223.85\n"
          ]
        }
      ],
      "source": [
        "from tensorflow.python.ops.nn_impl import compute_average_loss\n",
        "# Initialize model using GPU\n",
        "mlp = MLP(size_input, size_hidden, size_hidden_2, size_output, device='gpu')\n",
        "error = []\n",
        "accuracy = []\n",
        "accuracy_val = []\n",
        "time_start = time.time()\n",
        "for epoch in range(NUM_EPOCHS + 1):\n",
        "  loss_total = tf.zeros([1,1], dtype=tf.float32)\n",
        "  lt = 0\n",
        "  # train_ds = tf.data.Dataset.from_tensor_slices((X_train, y_train)).batch(train_batch)\n",
        "\n",
        "  preds = mlp.forward(X_train)\n",
        "  loss_total = loss_total + mlp.loss(preds, y_train)\n",
        "  lt = lt + mlp.loss(preds, y_train)\n",
        "  gd = mlp.backward(X_train, y_train)\n",
        "  '''\n",
        "  This code is for batch gradient descent\n",
        "  '''\n",
        "  '''\n",
        "  mlp.vanillasgd(gd)\n",
        "  for inputs, outputs in train_ds: \n",
        "    preds = mlp.forward(inputs)\n",
        "    #print(inputs.shape, \" \", outputs.shape, \" \", preds.shape)\n",
        "    loss_total = loss_total + mlp.loss(preds, outputs)\n",
        "    lt = lt + mlp.loss(preds, outputs)\n",
        "    gd = mlp.backward(inputs, outputs)\n",
        "    #mlp.vanillasgd(gd)\n",
        "  '''\n",
        "  curr_error = np.sum(loss_total) / X_train.shape[0]\n",
        "  error.append(curr_error)\n",
        "  curr_accuracy = compute_accuracy(mlp, X_train, y_train) * 100\n",
        "  curr_accuracy_val = compute_accuracy(mlp, X_val, y_val) * 100\n",
        "  accuracy_val.append(curr_accuracy)\n",
        "  accuracy.append(curr_accuracy)\n",
        "  if(epoch % 100 == 0):\n",
        "    print('Epoch:{} \\nAverage Error: {} \\nAccuracy on training set:= {:.2f}% \\nAccuracy on validation set:= {:.2f}%\\n\\n'.format(epoch, curr_error, curr_accuracy, curr_accuracy_val))\n",
        "time_taken = time.time() - time_start\n",
        "\n",
        "print('\\n\\nAccuracy on Test set:', compute_accuracy(mlp, X_test, y_test) * 100)\n",
        "\n",
        "print('\\nTotal time taken (in seconds): {:.2f}'.format(time_taken))\n",
        "#For per epoch_time = Total_Time / Number_of_epochs"
      ]
    },
    {
      "cell_type": "code",
      "execution_count": null,
      "metadata": {
        "colab": {
          "base_uri": "https://localhost:8080/",
          "height": 317
        },
        "id": "InnvvnwdY6Kl",
        "outputId": "edf7bbf4-914e-4d00-a2e0-c3ba17d0af21"
      },
      "outputs": [
        {
          "name": "stdout",
          "output_type": "stream",
          "text": [
            "Predicted output:=  4\n",
            "Actual ouput:=  4\n"
          ]
        },
        {
          "data": {
            "text/plain": [
              "<matplotlib.image.AxesImage at 0x7f4eb9baa210>"
            ]
          },
          "execution_count": 106,
          "metadata": {},
          "output_type": "execute_result"
        },
        {
          "data": {
            "image/png": "[encoded data removed]",
            "text/plain": [
              "<Figure size 432x288 with 1 Axes>"
            ]
          },
          "metadata": {},
          "output_type": "display_data"
        }
      ],
      "source": [
        "# Testing the model \n",
        "test_index = 300\n",
        "test_data = tf.reshape(X_test[test_index], (1, size_input))\n",
        "output = mlp.forward(test_data)\n",
        "pred = np.argmax(output, axis=1)\n",
        "print(\"Predicted output:= \", int(pred))\n",
        "print(\"Actual ouput:= \", test_labels[test_index])\n",
        "plt.imshow(test_images[test_index])"
      ]
    },
    {
      "cell_type": "code",
      "execution_count": null,
      "metadata": {
        "colab": {
          "base_uri": "https://localhost:8080/",
          "height": 298
        },
        "id": "lE8IbKETY6Kl",
        "outputId": "dfb46e41-c849-43a6-d80a-6741b8468f96"
      },
      "outputs": [
        {
          "data": {
            "text/plain": [
              "[<matplotlib.lines.Line2D at 0x7f4eb9b0d650>]"
            ]
          },
          "execution_count": 107,
          "metadata": {},
          "output_type": "execute_result"
        },
        {
          "data": {
            "image/png": "[encoded data removed]",
            "text/plain": [
              "<Figure size 432x288 with 1 Axes>"
            ]
          },
          "metadata": {},
          "output_type": "display_data"
        }
      ],
      "source": [
        "# Plotting Crossentropy error\n",
        "plt.title(\"Error on training set\")\n",
        "plt.plot([i for i in range(NUM_EPOCHS + 1)], error)"
      ]
    },
    {
      "cell_type": "code",
      "execution_count": null,
      "metadata": {
        "colab": {
          "base_uri": "https://localhost:8080/",
          "height": 298
        },
        "id": "h74ZqfKgY6Km",
        "outputId": "a9135cce-d948-460b-9de1-39f531c8f41b"
      },
      "outputs": [
        {
          "data": {
            "text/plain": [
              "[<matplotlib.lines.Line2D at 0x7f4eb9a7bb50>]"
            ]
          },
          "execution_count": 108,
          "metadata": {},
          "output_type": "execute_result"
        },
        {
          "data": {
            "image/png": "[encoded data removed]",
            "text/plain": [
              "<Figure size 432x288 with 1 Axes>"
            ]
          },
          "metadata": {},
          "output_type": "display_data"
        }
      ],
      "source": [
        "# Plotting accuracy\n",
        "plt.title(\"Accuracy on training set\")\n",
        "plt.plot([i for i in range(NUM_EPOCHS + 1)], accuracy)"
      ]
    },
    {
      "cell_type": "code",
      "execution_count": null,
      "metadata": {
        "colab": {
          "base_uri": "https://localhost:8080/",
          "height": 298
        },
        "id": "U-2Ll7OMY6Km",
        "outputId": "dba1c9a3-eed5-4fca-af95-bf717bb0e415"
      },
      "outputs": [
        {
          "data": {
            "text/plain": [
              "[<matplotlib.lines.Line2D at 0x7f4eb9a61ad0>]"
            ]
          },
          "execution_count": 109,
          "metadata": {},
          "output_type": "execute_result"
        },
        {
          "data": {
            "image/png": "[encoded data removed]",
            "text/plain": [
              "<Figure size 432x288 with 1 Axes>"
            ]
          },
          "metadata": {},
          "output_type": "display_data"
        }
      ],
      "source": [
        "# Plotting validation accuracy\n",
        "plt.title(\"Accuracy on validation set\")\n",
        "plt.plot([i for i in range(NUM_EPOCHS + 1)], accuracy_val)"
      ]
    },
    {
      "cell_type": "code",
      "execution_count": null,
      "metadata": {
        "id": "wQUoP5Lpa5Jx"
      },
      "outputs": [],
      "source": [
        "def compute_accuracy_custom(mlp, X, y):\n",
        "  '''\n",
        "  This function does a forward pass of x, then checks if the indices\n",
        "  of the maximum value in the output equals the indices in the label \n",
        "  y. Then it sums over each prediction and calculates the accuracy.\n",
        "  '''\n",
        "  predictions = []\n",
        "  # for x, y in zip(X, y):\n",
        "  #   x = tf.reshape(x, (1, size_input))\n",
        "  #   output = mlp.forward(x)\n",
        "  #   pred = np.argmax(output)\n",
        "  #   predictions.append(pred == np.argmax(y))\n",
        "\n",
        "  output = mlp.forward(X)\n",
        "  pred = np.argmax(output, axis=1)\n",
        "  predictions.append(pred == np.argmax(y, axis=1))\n",
        "\n",
        "  return np.mean(predictions)"
      ]
    },
    {
      "cell_type": "code",
      "execution_count": null,
      "metadata": {
        "id": "ulVuwsfH8eU-"
      },
      "outputs": [],
      "source": [
        "class CustomOpti:\n",
        "    def __init__(self, var, alpha=1e-4, beta1=0.9, beta2=0.999, beta3=0.999987, epsilon=1e-8, epsilon2=1e-6):\n",
        "        self.m_d = [tf.zeros_like(i) for i in var]\n",
        "        self.u_d = [tf.zeros_like(i) for i in var]\n",
        "        self.v_d = [tf.zeros_like(i) for i in var]\n",
        "        self.alpha = alpha\n",
        "        self.beta1 = beta1\n",
        "        self.beta2 = beta2\n",
        "        self.beta3 = beta3\n",
        "        self.epsilon = epsilon\n",
        "        self.epsilon2 = epsilon2\n",
        "        self.t = 0\n",
        "    def update(self, grads, variables):\n",
        "        self.t += 1\n",
        "        self.m_d = [i * self.beta1 + (1 - self.beta1) * j for i, j in zip(self.m_d, grads) ]\n",
        "        self.u_d = [i * self.beta2 + (1 - self.beta2) * (j ** 2) for i, j in zip(self.u_d, grads) ]\n",
        "        self.v_d = [i * self.beta3 + (1 - self.beta3) * (j ** 3) for i, j in zip(self.v_d, grads) ]\n",
        "\n",
        "        m_cap = [i / (1 - (self.beta1 ** self.t)) for i in self.m_d]\n",
        "        u_cap = [i / (1 - (self.beta2 ** self.t)) for i in self.u_d]\n",
        "        v_cap = [i / (1 - (self.beta3 ** self.t)) for i in self.v_d]\n",
        "        v_cap_sign=[tf.math.sign(i) for i in v_cap]\n",
        "        v_cap_abs=[tf.abs(i) for i in v_cap]\n",
        "\n",
        "        temp = [self.alpha * i / (self.epsilon + tf.sqrt(j) + (lamda * tf.pow(k, 1.0 / 3.0) * self.epsilon)) for i, j, k, l in zip(m_cap, u_cap, v_cap_abs,v_cap_sign)]\n",
        "        update_val = [i - j for i, j in zip(variables, temp)]\n",
        "\n",
        "        return update_val"
      ]
    },
    {
      "cell_type": "code",
      "execution_count": null,
      "metadata": {
        "colab": {
          "background_save": true,
          "base_uri": "https://localhost:8080/"
        },
        "id": "VFIFf0N6hXMe",
        "outputId": "72ba4e16-646e-44f2-8fea-63ef2f7b1446"
      },
      "outputs": [
        {
          "name": "stdout",
          "output_type": "stream",
          "text": [
            "Epoch:0 \n",
            "Average Error: 2.4343646875 \n",
            "Accuracy on training set:= 9.15% \n",
            "Accuracy on validation set:= 9.27%\n",
            "\n",
            "\n",
            "Epoch:100 \n",
            "Average Error: 1.9547690625 \n",
            "Accuracy on training set:= 62.08% \n",
            "Accuracy on validation set:= 63.93%\n",
            "\n",
            "\n",
            "Epoch:200 \n",
            "Average Error: 1.53149046875 \n",
            "Accuracy on training set:= 73.77% \n",
            "Accuracy on validation set:= 75.66%\n",
            "\n",
            "\n",
            "Epoch:300 \n",
            "Average Error: 1.18929546875 \n",
            "Accuracy on training set:= 80.79% \n",
            "Accuracy on validation set:= 82.14%\n",
            "\n",
            "\n",
            "Epoch:400 \n",
            "Average Error: 0.93924703125 \n",
            "Accuracy on training set:= 84.83% \n",
            "Accuracy on validation set:= 86.03%\n",
            "\n",
            "\n",
            "Epoch:500 \n",
            "Average Error: 0.76290765625 \n",
            "Accuracy on training set:= 87.26% \n",
            "Accuracy on validation set:= 87.63%\n",
            "\n",
            "\n",
            "Epoch:600 \n",
            "Average Error: 0.637227890625 \n",
            "Accuracy on training set:= 88.66% \n",
            "Accuracy on validation set:= 88.55%\n",
            "\n",
            "\n",
            "Epoch:700 \n",
            "Average Error: 0.5468945703125 \n",
            "Accuracy on training set:= 89.58% \n",
            "Accuracy on validation set:= 89.14%\n",
            "\n",
            "\n",
            "Epoch:800 \n",
            "Average Error: 0.480740234375 \n",
            "Accuracy on training set:= 90.30% \n",
            "Accuracy on validation set:= 89.62%\n",
            "\n",
            "\n",
            "Epoch:900 \n",
            "Average Error: 0.4310748828125 \n",
            "Accuracy on training set:= 90.80% \n",
            "Accuracy on validation set:= 89.88%\n",
            "\n",
            "\n",
            "Epoch:1000 \n",
            "Average Error: 0.392861640625 \n",
            "Accuracy on training set:= 91.24% \n",
            "Accuracy on validation set:= 90.09%\n",
            "\n",
            "\n",
            "Epoch:1100 \n",
            "Average Error: 0.36262640625 \n",
            "Accuracy on training set:= 91.57% \n",
            "Accuracy on validation set:= 90.16%\n",
            "\n",
            "\n",
            "Epoch:1200 \n",
            "Average Error: 0.33819765625 \n",
            "Accuracy on training set:= 91.87% \n",
            "Accuracy on validation set:= 90.45%\n",
            "\n",
            "\n",
            "Epoch:1300 \n",
            "Average Error: 0.31812251953125 \n",
            "Accuracy on training set:= 92.12% \n",
            "Accuracy on validation set:= 90.58%\n",
            "\n",
            "\n",
            "Epoch:1400 \n",
            "Average Error: 0.30125166015625 \n",
            "Accuracy on training set:= 92.36% \n",
            "Accuracy on validation set:= 90.74%\n",
            "\n",
            "\n",
            "Epoch:1500 \n",
            "Average Error: 0.28703546875 \n",
            "Accuracy on training set:= 92.52% \n",
            "Accuracy on validation set:= 91.00%\n",
            "\n",
            "\n",
            "Epoch:1600 \n",
            "Average Error: 0.2747569140625 \n",
            "Accuracy on training set:= 92.72% \n",
            "Accuracy on validation set:= 91.11%\n",
            "\n",
            "\n",
            "Epoch:1700 \n",
            "Average Error: 0.263758359375 \n",
            "Accuracy on training set:= 92.90% \n",
            "Accuracy on validation set:= 91.25%\n",
            "\n",
            "\n",
            "Epoch:1800 \n",
            "Average Error: 0.25408162109375 \n",
            "Accuracy on training set:= 93.08% \n",
            "Accuracy on validation set:= 91.30%\n",
            "\n",
            "\n",
            "Epoch:1900 \n",
            "Average Error: 0.245400546875 \n",
            "Accuracy on training set:= 93.22% \n",
            "Accuracy on validation set:= 91.25%\n",
            "\n",
            "\n",
            "Epoch:2000 \n",
            "Average Error: 0.2376441796875 \n",
            "Accuracy on training set:= 93.40% \n",
            "Accuracy on validation set:= 91.36%\n",
            "\n",
            "\n",
            "Epoch:2100 \n",
            "Average Error: 0.23054951171875 \n",
            "Accuracy on training set:= 93.53% \n",
            "Accuracy on validation set:= 91.44%\n",
            "\n",
            "\n",
            "Epoch:2200 \n",
            "Average Error: 0.22398712890625 \n",
            "Accuracy on training set:= 93.66% \n",
            "Accuracy on validation set:= 91.54%\n",
            "\n",
            "\n",
            "Epoch:2300 \n",
            "Average Error: 0.2179484765625 \n",
            "Accuracy on training set:= 93.75% \n",
            "Accuracy on validation set:= 91.75%\n",
            "\n",
            "\n",
            "Epoch:2400 \n",
            "Average Error: 0.2120616796875 \n",
            "Accuracy on training set:= 93.89% \n",
            "Accuracy on validation set:= 91.78%\n",
            "\n",
            "\n",
            "Epoch:2500 \n",
            "Average Error: 0.2066425390625 \n",
            "Accuracy on training set:= 94.02% \n",
            "Accuracy on validation set:= 91.85%\n",
            "\n",
            "\n",
            "Epoch:2600 \n",
            "Average Error: 0.20158576171875 \n",
            "Accuracy on training set:= 94.13% \n",
            "Accuracy on validation set:= 91.91%\n",
            "\n",
            "\n",
            "Epoch:2700 \n",
            "Average Error: 0.19679546875 \n",
            "Accuracy on training set:= 94.24% \n",
            "Accuracy on validation set:= 92.05%\n",
            "\n",
            "\n",
            "Epoch:2800 \n",
            "Average Error: 0.19212390625 \n",
            "Accuracy on training set:= 94.36% \n",
            "Accuracy on validation set:= 92.06%\n",
            "\n",
            "\n",
            "Epoch:2900 \n",
            "Average Error: 0.18775919921875 \n",
            "Accuracy on training set:= 94.47% \n",
            "Accuracy on validation set:= 92.12%\n",
            "\n",
            "\n",
            "Epoch:3000 \n",
            "Average Error: 0.18358857421875 \n",
            "Accuracy on training set:= 94.60% \n",
            "Accuracy on validation set:= 92.10%\n",
            "\n",
            "\n",
            "\n",
            "\n",
            "Accuracy on Test set: 91.75999999999999\n",
            "\n",
            "Total time taken (in seconds): 243.09\n"
          ]
        }
      ],
      "source": [
        "from tensorflow.python.ops.nn_impl import compute_average_loss\n",
        "\n",
        "# Define class to build mlp model\n",
        "class CustomMLP(object):\n",
        "  def __init__(self, size_input, size_hidden, size_hidden_2, size_output, device=None):\n",
        "    \"\"\"\n",
        "    size_input: int, size of input layer\n",
        "    size_hidden: int, size of hidden layer\n",
        "    size_output: int, size of output layer\n",
        "    device: str or None, either 'cpu' or 'gpu' or None. If None, the device to be used will be decided automatically during Eager Execution\n",
        "    \"\"\"\n",
        "    self.size_input, self.size_hidden, self.size_hidden_2, self.size_output, self.device =\\\n",
        "    size_input, size_hidden, size_hidden_2, size_output, device\n",
        "    \n",
        "    # Initialize weights between input layer and hidden layer\n",
        "    self.W1 = tf.Variable(tf.random.normal([self.size_input, self.size_hidden], stddev=0.1))\n",
        "    # Initialize biases for hidden layer\n",
        "    self.b1 = tf.Variable(tf.zeros([1, self.size_hidden]))\n",
        "     # Initialize weights between input layer and hidden layer\n",
        "    self.W2 = tf.Variable(tf.random.normal([self.size_hidden, self.size_hidden_2], stddev=0.1))\n",
        "    # Initialize biases for hidden layer\n",
        "    self.b2 = tf.Variable(tf.zeros([1, self.size_hidden_2]))\n",
        "    # Initialize weights between hidden layer and output layer\n",
        "    self.W3 = tf.Variable(tf.random.normal([self.size_hidden_2, self.size_output], stddev=0.1))\n",
        "    # Initialize biases for output layer\n",
        "    self.b3 = tf.Variable(tf.zeros([1, self.size_output]))\n",
        "    \n",
        "    # Define variables to be updated during backpropagation\n",
        "    self.variables = [self.W1, self.W2, self.W3, self.b1, self.b2, self.b3]\n",
        "\n",
        "    self.optimizer = CustomOpti(var = [self.W1, self.W2, self.W3, self.b1, self.b2, self.b3])\n",
        "    \n",
        "  def forward(self, X):\n",
        "    \"\"\"\n",
        "    forward pass\n",
        "    X: Tensor, inputs\n",
        "    \"\"\"\n",
        "    if self.device is not None:\n",
        "      with tf.device('gpu:0' if self.device=='gpu' else 'cpu'):\n",
        "        self.y = self.compute_output(X)\n",
        "    else:\n",
        "      self.y = self.compute_output(X)\n",
        "      \n",
        "    return self.y\n",
        "  \n",
        "  def loss(self, y_pred, y_true):\n",
        "    '''\n",
        "    y_pred - Tensor of shape (batch_size, size_output)\n",
        "    y_true - Tensor of shape (batch_size, size_output)\n",
        "    '''\n",
        "    y_true_tf = tf.cast(tf.reshape(y_true, (-1, self.size_output)), dtype=tf.float32)\n",
        "    y_pred_tf = tf.cast(y_pred, dtype=tf.float32)\n",
        "    #l2_rg = (lamda / (2.0 * number_of_train_examples)) * (np.sum(np.square(self.variables[0])) + np.sum(np.square(self.variables[1])) + np.sum(np.square(self.variables[2])))\n",
        "    #l1_rg = (lamda / number_of_train_examples) * (np.sum(self.variables[0]) + np.sum(self.variables[1]) + np.sum(self.variables[2]))\n",
        "    return tf.losses.categorical_crossentropy(y_true_tf, y_pred_tf)\n",
        "  \n",
        "  def backward(self, X_train, y_train, epoch):\n",
        "    \"\"\"\n",
        "    backward pass\n",
        "    \"\"\"\n",
        "    '''\n",
        "    predicted, cache = self.forward(X_train)\n",
        "    current_loss = self.loss(predicted, y_train)\n",
        "\n",
        "    Z1 = cache['Z1']\n",
        "    Z2 = cache['Z2']\n",
        "\n",
        "    dZ3 = predicted - y_train\n",
        "    dZ3 = tf.cast(dZ3, dtype=tf.float32)\n",
        "    dW3 = (1 / X_train.shape[0]) * tf.tensordot(tf.transpose(Z2), dZ3, 1)\n",
        "    db3 = (1 / X_train.shape[0]) * np.sum(dZ3, axis=0, keepdims=True)\n",
        "    assert dW3.shape == self.W3.shape\n",
        "\n",
        "    dZ2 = tf.tensordot(dZ3, tf.transpose(self.W3), 1) * sigmoid(Z2, True)\n",
        "    dW2 = (1 / X_train.shape[0]) * tf.tensordot(tf.transpose(Z1), dZ2, 1)\n",
        "    db2 = (1 / X_train.shape[0]) * np.sum(dZ2, axis=0, keepdims=True)\n",
        "    assert dW2.shape == self.W2.shape\n",
        "\n",
        "    dZ1 = tf.tensordot(dZ2, tf.transpose(self.W2), 1) * sigmoid(Z1, True)\n",
        "    X_train = tf.cast(X_train, dtype=tf.float32)\n",
        "    dW1 = (1 / X_train.shape[0]) * tf.tensordot(tf.transpose(X_train), dZ1, 1)\n",
        "    db1 = (1 / X_train.shape[0]) * np.sum(dZ1, axis=0, keepdims=True)\n",
        "    assert dW1.shape == self.W1.shape\n",
        "\n",
        "    optimizer1 = CustomOpti(dW1.shape[0], dW1.shape[1])\n",
        "    optimizer2 = CustomOpti(dW2.shape[0], dW2.shape[1])\n",
        "    optimizer3 = CustomOpti(dW3.shape[0], dW3.shape[1])\n",
        "\n",
        "    self.W3, self.b3 = optimizer3.update(self.W3, self.b3, dW3, db3)\n",
        "    self.W2, self.b2 = optimizer2.update(self.W2, self.b2, dW2, db2)\n",
        "    self.W1, self.b1 = optimizer1.update(self.W1, self.b1, dW1, db1)\n",
        "    '''\n",
        "  \n",
        "    #print(self.variables)\n",
        "    #optimizer = tf.keras.optimizers.Adam(learning_rate=learning_rate_hp)\n",
        "    with tf.GradientTape() as tape:\n",
        "      predicted = self.forward(X_train)\n",
        "      current_loss = self.loss(predicted, y_train)\n",
        "    grads = tape.gradient(current_loss, self.variables)\n",
        "    #optimizer.apply_gradients(zip(grads, self.variables))\n",
        "    \n",
        "    update_val = self.optimizer.update(grads, self.variables)\n",
        "    for i in range(len(self.variables)):\n",
        "      self.variables[i].assign(update_val[i])\n",
        "        \n",
        "  def compute_output(self, X):\n",
        "    \"\"\"\n",
        "    Custom method to obtain output tensor during forward pass\n",
        "    \"\"\"\n",
        "    \n",
        "    X_tf = tf.cast(X, dtype=tf.float32)\n",
        "   \n",
        "    what = tf.matmul(X_tf, self.W1) + self.b1\n",
        "    hhat = tf.nn.sigmoid(what)\n",
        "    \n",
        "    what_2 = tf.matmul(hhat, self.W2) + self.b2\n",
        "    hhat_2 = tf.nn.sigmoid(what_2)\n",
        "    \n",
        "    output = tf.matmul(hhat_2, self.W3) + self.b3\n",
        "    output = tf.nn.softmax(output)\n",
        "\n",
        "    cache = {\n",
        "        'Z1' : hhat,\n",
        "        'Z2' : hhat_2\n",
        "    }\n",
        "    \n",
        "    return output\n",
        "\n",
        "# Initialize model using GPU\n",
        "mlpc = CustomMLP(size_input, size_hidden, size_hidden_2, size_output, device='gpu')\n",
        "error = []\n",
        "accuracy = []\n",
        "accuracy_val = []\n",
        "time_start = time.time()\n",
        "for epoch in range(NUM_EPOCHS + 1):\n",
        "  loss_total = tf.zeros([1,1], dtype=tf.float32)\n",
        "  lt = 0\n",
        "  # train_ds = tf.data.Dataset.from_tensor_slices((X_train, y_train)).batch(train_batch)\n",
        "\n",
        "  preds = mlpc.forward(X_train)\n",
        "  loss_total = loss_total + mlpc.loss(preds, y_train)\n",
        "  lt = lt + mlpc.loss(preds, y_train)\n",
        "  gd = mlpc.backward(X_train, y_train, epoch)\n",
        "  '''\n",
        "  This code is for batch gradient descent\n",
        "  '''\n",
        "  '''\n",
        "  mlpc.vanillasgd(gd)\n",
        "  for inputs, outputs in train_ds: \n",
        "    preds = mlpc.forward(inputs)\n",
        "    #print(inputs.shape, \" \", outputs.shape, \" \", preds.shape)\n",
        "    loss_total = loss_total + mlpc.loss(preds, outputs)\n",
        "    lt = lt + mlpc.loss(preds, outputs)\n",
        "    gd = mlpc.backward(inputs, outputs)\n",
        "    #mlpc.vanillasgd(gd)\n",
        "  '''\n",
        "  curr_error = np.sum(loss_total) / X_train.shape[0]\n",
        "  error.append(curr_error)\n",
        "  curr_accuracy = compute_accuracy_custom(mlpc, X_train, y_train) * 100\n",
        "  curr_accuracy_val = compute_accuracy_custom(mlpc, X_val, y_val) * 100\n",
        "  accuracy_val.append(curr_accuracy)\n",
        "  accuracy.append(curr_accuracy)\n",
        "  if(epoch % 100 == 0):\n",
        "    print('Epoch:{} \\nAverage Error: {} \\nAccuracy on training set:= {:.2f}% \\nAccuracy on validation set:= {:.2f}%\\n\\n'.format(epoch, curr_error, curr_accuracy, curr_accuracy_val))\n",
        "time_taken = time.time() - time_start\n",
        "\n",
        "print('\\n\\nAccuracy on Test set:', compute_accuracy_custom(mlpc, X_test, y_test) * 100)\n",
        "\n",
        "print('\\nTotal time taken (in seconds): {:.2f}'.format(time_taken))\n",
        "#For per epoch_time = Total_Time / Number_of_epochs"
      ]
    },
    {
      "cell_type": "code",
      "execution_count": null,
      "metadata": {
        "colab": {
          "background_save": true
        },
        "id": "tM1FwFdkjYZK",
        "outputId": "535b61a2-7c58-442d-9685-5371c9af502f"
      },
      "outputs": [
        {
          "name": "stdout",
          "output_type": "stream",
          "text": [
            "Predicted output:=  1\n",
            "Actual ouput:=  4\n"
          ]
        },
        {
          "data": {
            "text/plain": [
              "<matplotlib.image.AxesImage at 0x7f4eb99bcb50>"
            ]
          },
          "execution_count": null,
          "metadata": {},
          "output_type": "execute_result"
        },
        {
          "data": {
            "image/png": "[encoded data removed]",
            "text/plain": [
              "<Figure size 432x288 with 1 Axes>"
            ]
          },
          "metadata": {},
          "output_type": "display_data"
        }
      ],
      "source": [
        "# Testing the model \n",
        "test_index = 300\n",
        "test_data = tf.reshape(X_test[test_index], (1, size_input))\n",
        "output = mlpc.forward(test_data)\n",
        "pred = np.argmax(output, axis=1)\n",
        "print(\"Predicted output:= \", int(pred))\n",
        "print(\"Actual ouput:= \", test_labels[test_index])\n",
        "plt.imshow(test_images[test_index])"
      ]
    },
    {
      "cell_type": "code",
      "execution_count": null,
      "metadata": {
        "colab": {
          "background_save": true
        },
        "id": "0j4ckajesitE",
        "outputId": "4a8580a2-e886-4517-b705-95b3eada697c"
      },
      "outputs": [
        {
          "data": {
            "text/plain": [
              "[<matplotlib.lines.Line2D at 0x7f4eb994ef90>]"
            ]
          },
          "execution_count": null,
          "metadata": {},
          "output_type": "execute_result"
        },
        {
          "data": {
            "image/png": "[encoded data removed]",
            "text/plain": [
              "<Figure size 432x288 with 1 Axes>"
            ]
          },
          "metadata": {},
          "output_type": "display_data"
        }
      ],
      "source": [
        "# Plotting Crossentropy error\n",
        "plt.title(\"Error on training set\")\n",
        "plt.plot([i for i in range(NUM_EPOCHS + 1)], error)"
      ]
    },
    {
      "cell_type": "code",
      "execution_count": null,
      "metadata": {
        "colab": {
          "background_save": true
        },
        "id": "V5WKUnvmsrEM",
        "outputId": "dc9dbe19-7683-4b7c-987e-1222221f5dc0"
      },
      "outputs": [
        {
          "data": {
            "text/plain": [
              "[<matplotlib.lines.Line2D at 0x7f4eb98b6fd0>]"
            ]
          },
          "execution_count": null,
          "metadata": {},
          "output_type": "execute_result"
        },
        {
          "data": {
            "image/png": "[encoded data removed]",
            "text/plain": [
              "<Figure size 432x288 with 1 Axes>"
            ]
          },
          "metadata": {},
          "output_type": "display_data"
        }
      ],
      "source": [
        "# Plotting accuracy\n",
        "plt.title(\"Accuracy on training set\")\n",
        "plt.plot([i for i in range(NUM_EPOCHS + 1)], accuracy)"
      ]
    },
    {
      "cell_type": "code",
      "execution_count": null,
      "metadata": {
        "colab": {
          "background_save": true
        },
        "id": "9VDGhmhtsx43",
        "outputId": "b82a72b9-9329-46c0-d4b5-5946e3d47bc4"
      },
      "outputs": [
        {
          "data": {
            "text/plain": [
              "[<matplotlib.lines.Line2D at 0x7f4eb98a3990>]"
            ]
          },
          "execution_count": null,
          "metadata": {},
          "output_type": "execute_result"
        },
        {
          "data": {
            "image/png": "[encoded data removed]",
            "text/plain": [
              "<Figure size 432x288 with 1 Axes>"
            ]
          },
          "metadata": {},
          "output_type": "display_data"
        }
      ],
      "source": [
        "# Plotting validation accuracy\n",
        "plt.title(\"Accuracy on validation set\")\n",
        "plt.plot([i for i in range(NUM_EPOCHS + 1)], accuracy_val)"
      ]
    },
    {
      "cell_type": "code",
      "execution_count": null,
      "metadata": {
        "colab": {
          "background_save": true
        },
        "id": "iIK5apI0ZNK0"
      },
      "outputs": [],
      "source": [
        ""
      ]
    }
  ],
  "metadata": {
    "accelerator": "GPU",
    "colab": {
      "collapsed_sections": [],
      "name": "IST_597 Assignment 3",
      "provenance": []
    },
    "kernelspec": {
      "display_name": "Python 3",
      "name": "python3"
    },
    "language_info": {
      "name": "python"
    }
  },
  "nbformat": 4,
  "nbformat_minor": 0
}